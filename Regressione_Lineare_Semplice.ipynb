{
  "nbformat": 4,
  "nbformat_minor": 0,
  "metadata": {
    "colab": {
      "name": "Regressione Lineare Semplice.ipynb",
      "provenance": [],
      "collapsed_sections": [],
      "include_colab_link": true
    },
    "kernelspec": {
      "name": "python3",
      "display_name": "Python 3"
    }
  },
  "cells": [
    {
      "cell_type": "markdown",
      "metadata": {
        "id": "view-in-github",
        "colab_type": "text"
      },
      "source": [
        "<a href=\"https://colab.research.google.com/github/MatteoGandetto/Corso_Python_new/blob/master/Regressione_Lineare_Semplice.ipynb\" target=\"_parent\"><img src=\"https://colab.research.google.com/assets/colab-badge.svg\" alt=\"Open In Colab\"/></a>"
      ]
    },
    {
      "cell_type": "markdown",
      "metadata": {
        "id": "QQuPWruMPeGu",
        "colab_type": "text"
      },
      "source": [
        "\n",
        "**Import Libraries**"
      ]
    },
    {
      "cell_type": "code",
      "metadata": {
        "id": "fCPH_BJmdYE3",
        "colab_type": "code",
        "colab": {}
      },
      "source": [
        "# package for scientific computing\n",
        "import numpy as np\n",
        "\n",
        "#collection of command style functions that make matplotlib work like MATLAB\n",
        "import matplotlib.pyplot as plt \n",
        "\n",
        "#data analysis and manipulation tool\n",
        "import pandas as pd "
      ],
      "execution_count": 0,
      "outputs": []
    },
    {
      "cell_type": "markdown",
      "metadata": {
        "id": "8bCKPI2M9qEy",
        "colab_type": "text"
      },
      "source": [
        "\n",
        "\n",
        "---\n",
        "---\n",
        "**Load data into a dataFrame and prepare them**"
      ]
    },
    {
      "cell_type": "code",
      "metadata": {
        "id": "4uQjeFNJ2--r",
        "colab_type": "code",
        "outputId": "46304e82-f17d-4b8f-e4f1-18662b7fd266",
        "colab": {
          "base_uri": "https://localhost:8080/",
          "height": 350
        }
      },
      "source": [
        "\n",
        "path='https://raw.githubusercontent.com/MatteoGandetto/Corso_Python_new/master/Regressione_Lineare_Semplice_IN.csv'\n",
        "INPUT_df=pd.read_csv(path)\n",
        "\n",
        "#remove all NaN\n",
        "# 0 -> rows\n",
        "# 1 -> columns\n",
        "INPUT_df=INPUT_df.dropna(1,'all')\n",
        "INPUT_df=INPUT_df.dropna(0,'all')\n",
        "\n",
        "#convert to NumPy array\n",
        "np_IN=np.array(INPUT_df)\n",
        "np_IN_X=np_IN[:,0]\n",
        "np_IN_y=np_IN[:,1]\n",
        "\n",
        "#plot data\n",
        "fig, axs = plt.subplots(1,2)\n",
        "fig.set_size_inches(12,5)\n",
        "\n",
        "axs[0].scatter(np_IN_X, np_IN_y)\n",
        "axs[0].set_xlabel('sup [mq]')\n",
        "axs[0].set_ylabel('price [euro]')\n",
        "axs[0].set_title('Dataset')\n",
        "\n",
        "axs[1].boxplot(np_IN_X)\n",
        "axs[1].set_ylabel('sup value')\n",
        "axs[1].set_title('sup Details')\n",
        "\n",
        "fig.show()"
      ],
      "execution_count": 5,
      "outputs": [
        {
          "output_type": "display_data",
          "data": {
            "image/png": "[encoded data removed]",
            "text/plain": [
              "<Figure size 864x360 with 2 Axes>"
            ]
          },
          "metadata": {
            "tags": []
          }
        }
      ]
    },
    {
      "cell_type": "markdown",
      "metadata": {
        "id": "fT-YCjPndSZG",
        "colab_type": "text"
      },
      "source": [
        "\n",
        "\n",
        "---\n",
        "\n",
        "---\n",
        "\n",
        "Machine Learning\n",
        "**ALGORITMO DI REGRESSIONE LINEARE**\n",
        "\n"
      ]
    },
    {
      "cell_type": "markdown",
      "metadata": {
        "id": "y0Dg_JFDTFds",
        "colab_type": "text"
      },
      "source": [
        "Import Libraries"
      ]
    },
    {
      "cell_type": "code",
      "metadata": {
        "id": "q7AmzJ0PSywq",
        "colab_type": "code",
        "colab": {}
      },
      "source": [
        "from sklearn.linear_model import LinearRegression\n",
        "from sklearn.model_selection import train_test_split\n",
        "from sklearn.metrics import mean_squared_error"
      ],
      "execution_count": 0,
      "outputs": []
    },
    {
      "cell_type": "markdown",
      "metadata": {
        "id": "ksgI5tj2S6O8",
        "colab_type": "text"
      },
      "source": [
        "Dataset splitting \n",
        " "
      ]
    },
    {
      "cell_type": "code",
      "metadata": {
        "id": "XYvqt4pQS1EJ",
        "colab_type": "code",
        "colab": {}
      },
      "source": [
        "# split dataset in training part and test part\n",
        "# if train_size and test_size are not defined,the train_size=0.75 and test_size=0.25\n",
        "X_train, X_test, y_train, y_test = train_test_split(np_IN_X,np_IN_y,test_size=0.25)"
      ],
      "execution_count": 0,
      "outputs": []
    },
    {
      "cell_type": "markdown",
      "metadata": {
        "id": "CVaCmDrsTYLU",
        "colab_type": "text"
      },
      "source": [
        "**TRAINING PHASE** "
      ]
    },
    {
      "cell_type": "code",
      "metadata": {
        "id": "aaWTSTJvTc-1",
        "colab_type": "code",
        "colab": {}
      },
      "source": [
        "\n",
        "#reshape features to be used with LinearRegression's methods\n",
        "X_train_r=np.reshape(X_train,(-1, 1))\n",
        "X_test_r=np.reshape(X_test,(-1, 1))\n",
        "X_all=np.reshape(np_IN_X,(-1,1))\n",
        "\n",
        "#train the linear regressor\n",
        "linear_reg = LinearRegression().fit(X_train_r, y_train)"
      ],
      "execution_count": 0,
      "outputs": []
    },
    {
      "cell_type": "markdown",
      "metadata": {
        "id": "19q2NnsUTqeS",
        "colab_type": "text"
      },
      "source": [
        "**TEST PHASE**"
      ]
    },
    {
      "cell_type": "code",
      "metadata": {
        "id": "BIPj-4mXTvAy",
        "colab_type": "code",
        "colab": {}
      },
      "source": [
        "#y_pred is a linear prediction of X_test\n",
        "y_pred_test=linear_reg.predict(X_test_r)\n",
        "y_pred_train=linear_reg.predict(X_train_r)\n",
        "y_pred_all=linear_reg.predict(X_all)"
      ],
      "execution_count": 0,
      "outputs": []
    },
    {
      "cell_type": "markdown",
      "metadata": {
        "id": "ruF_8xSgT8Cq",
        "colab_type": "text"
      },
      "source": [
        "Compute evaluation metrics and plot results"
      ]
    },
    {
      "cell_type": "code",
      "metadata": {
        "id": "y9X0Uj2-dY6W",
        "colab_type": "code",
        "outputId": "4d64dc8f-490e-4742-ad0a-c1943d261f26",
        "colab": {
          "base_uri": "https://localhost:8080/",
          "height": 419
        }
      },
      "source": [
        "#evaluate the model by using R=1-RSE and MSE\n",
        "R2=linear_reg.score(X_test_r,y_test)\n",
        "MSE = mean_squared_error( y_test,y_pred_test)\n",
        "R2_train=linear_reg.score(X_train_r,y_train)\n",
        "MSE_train = mean_squared_error(y_train,y_pred_train)\n",
        "print ('TEST\\nR^2=',R2,'\\nMSE= %f \\n' % MSE)\n",
        "print ('TRAIN\\nR^2=',R2_train,'\\nMSE= %f \\n' % MSE_train)\n",
        "\n",
        "#show the solution\n",
        "fig, axs = plt.subplots(1,1)\n",
        "\n",
        "axs.set_xlabel('sup [mq]')\n",
        "axs.set_ylabel('price [euro]')\n",
        "axs.scatter(X_test,y_test)\n",
        "axs.scatter(X_train,y_train,color='red')\n",
        "axs.plot(X_all,y_pred_all,c='green',linewidth=3)\n",
        "fig.show()"
      ],
      "execution_count": 30,
      "outputs": [
        {
          "output_type": "stream",
          "text": [
            "TEST\n",
            "R^2= 0.526458668445933 \n",
            "MSE= 947048679.958767 \n",
            "\n",
            "TRAIN\n",
            "R^2= 0.49581758383619223 \n",
            "MSE= 744473947.047781 \n",
            "\n"
          ],
          "name": "stdout"
        },
        {
          "output_type": "display_data",
          "data": {
            "image/png": "[encoded data removed]",
            "text/plain": [
              "<Figure size 432x288 with 1 Axes>"
            ]
          },
          "metadata": {
            "tags": []
          }
        }
      ]
    }
  ]
}