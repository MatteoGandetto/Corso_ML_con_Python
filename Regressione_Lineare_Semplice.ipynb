{
  "nbformat": 4,
  "nbformat_minor": 0,
  "metadata": {
    "colab": {
      "name": "Regressione Lineare Semplice.ipynb",
      "provenance": [],
      "collapsed_sections": [],
      "include_colab_link": true
    },
    "kernelspec": {
      "name": "python3",
      "display_name": "Python 3"
    }
  },
  "cells": [
    {
      "cell_type": "markdown",
      "metadata": {
        "id": "view-in-github",
        "colab_type": "text"
      },
      "source": [
        "<a href=\"https://colab.research.google.com/github/MatteoGandetto/Corso_ML_con_Python/blob/master/Regressione_Lineare_Semplice.ipynb\" target=\"_parent\"><img src=\"https://colab.research.google.com/assets/colab-badge.svg\" alt=\"Open In Colab\"/></a>"
      ]
    },
    {
      "cell_type": "markdown",
      "metadata": {
        "id": "fAl6Zb6JpHV0",
        "colab_type": "text"
      },
      "source": [
        "# IMPORT GENERAL LIBRARIES"
      ]
    },
    {
      "cell_type": "code",
      "metadata": {
        "id": "fCPH_BJmdYE3",
        "colab_type": "code",
        "colab": {}
      },
      "source": [
        "# package for scientific computing\n",
        "import numpy as np\n",
        "\n",
        "#collection of command style functions that make matplotlib work like MATLAB\n",
        "import matplotlib.pyplot as plt \n",
        "\n",
        "#data analysis and manipulation tool\n",
        "import pandas as pd "
      ],
      "execution_count": 0,
      "outputs": []
    },
    {
      "cell_type": "markdown",
      "metadata": {
        "id": "98dWacLhpACA",
        "colab_type": "text"
      },
      "source": [
        "# IMPORT DATA FROM EXTERNAL SOURCE"
      ]
    },
    {
      "cell_type": "code",
      "metadata": {
        "id": "4uQjeFNJ2--r",
        "colab_type": "code",
        "outputId": "7a7b1fd0-9512-4e81-961c-fe91b571d5c2",
        "colab": {
          "base_uri": "https://localhost:8080/",
          "height": 540
        }
      },
      "source": [
        "\n",
        "path='https://raw.githubusercontent.com/MatteoGandetto/Corso_ML_con_Python/master/Regressione_Lineare_Multipla_IN.csv'\n",
        "INPUT_df=pd.read_csv(path)\n",
        "\n",
        "print('INPUT DATASET')\n",
        "print(INPUT_df.head())\n",
        "print('Dimensione:',INPUT_df.shape,'\\n')\n",
        "\n",
        "#remove all NaN\n",
        "# 0 -> rows\n",
        "# 1 -> columns\n",
        "INPUT_df=INPUT_df.dropna(1,'all')\n",
        "INPUT_df=INPUT_df.dropna(0,'all')\n",
        "\n",
        "\n",
        "#convert to NumPy array\n",
        "np_IN=np.array(INPUT_df)\n",
        "np_IN_X=np_IN[:,0]\n",
        "np_IN_y=np_IN[:,2]\n",
        "print('Dimensione features vectors',np_IN_X.shape,'\\nDimensione output',np_IN_y.shape)\n",
        "\n",
        "#plot data\n",
        "fig, axs = plt.subplots(1,2)\n",
        "fig.set_size_inches(12,5)\n",
        "\n",
        "axs[0].scatter(np_IN_X, np_IN_y)\n",
        "axs[0].set_xlabel('sup')\n",
        "axs[0].set_ylabel('price')\n",
        "axs[0].set_title('Dataset')\n",
        "\n",
        "axs[1].boxplot(np_IN_X)\n",
        "axs[1].set_ylabel('sup value')\n",
        "axs[1].set_title('sup Details')\n",
        "fig.show()"
      ],
      "execution_count": 15,
      "outputs": [
        {
          "output_type": "stream",
          "text": [
            "INPUT DATASET\n",
            "   Superficie  Vani  Prezzo\n",
            "0        1600     3  329900\n",
            "1        2400     3  369000\n",
            "2        1416     2  232000\n",
            "3        3000     4  539900\n",
            "4        1985     4  299900\n",
            "Dimensione: (104, 3) \n",
            "\n",
            "Dimensione features vectors (104,) \n",
            "Dimensione output (104,)\n"
          ],
          "name": "stdout"
        },
        {
          "output_type": "display_data",
          "data": {
            "image/png": "[encoded data removed]",
            "text/plain": [
              "<Figure size 864x360 with 2 Axes>"
            ]
          },
          "metadata": {
            "tags": []
          }
        }
      ]
    },
    {
      "cell_type": "markdown",
      "metadata": {
        "id": "l6iCjHnqo0eV",
        "colab_type": "text"
      },
      "source": [
        "# LIBRARIES FOR MACHINE LEARNING"
      ]
    },
    {
      "cell_type": "code",
      "metadata": {
        "id": "q7AmzJ0PSywq",
        "colab_type": "code",
        "colab": {}
      },
      "source": [
        "from sklearn.linear_model import LinearRegression\n",
        "from sklearn.model_selection import train_test_split\n",
        "from sklearn.metrics import mean_squared_error"
      ],
      "execution_count": 0,
      "outputs": []
    },
    {
      "cell_type": "markdown",
      "metadata": {
        "id": "vL7Fj35coWUZ",
        "colab_type": "text"
      },
      "source": [
        "# DATA PRE-PROCESSING"
      ]
    },
    {
      "cell_type": "code",
      "metadata": {
        "id": "_Tt9R7kJsxwg",
        "colab_type": "code",
        "colab": {}
      },
      "source": [
        "# split dataset in training part and test part\n",
        "# if train_size and test_size are not defined,the train_size=0.75 and test_size=0.25\n",
        "X_train, X_test, y_train, y_test = train_test_split(np_IN_X,np_IN_y,test_size=0.25)\n"
      ],
      "execution_count": 0,
      "outputs": []
    },
    {
      "cell_type": "markdown",
      "metadata": {
        "id": "LPrLAQjmYzQ-",
        "colab_type": "text"
      },
      "source": [
        "# TRAINING PHASE"
      ]
    },
    {
      "cell_type": "code",
      "metadata": {
        "id": "aaWTSTJvTc-1",
        "colab_type": "code",
        "outputId": "a642f983-b5ee-4b4a-f0dd-c558906f736b",
        "colab": {
          "base_uri": "https://localhost:8080/",
          "height": 52
        }
      },
      "source": [
        "#reshape features to be used with LinearRegression's methods\n",
        "X_train_r=np.reshape(X_train,(-1, 1))\n",
        "X_test_r=np.reshape(X_test,(-1, 1))\n",
        "X_all=np.reshape(np_IN_X,(-1,1))\n",
        "\n",
        "#train the linear regressor\n",
        "linear_reg = LinearRegression().fit(X_train_r, y_train)\n",
        "\n",
        "print ('Coefficienti stiamati: ',linear_reg.coef_)\n",
        "print ('Intercept: ',linear_reg.intercept_)"
      ],
      "execution_count": 18,
      "outputs": [
        {
          "output_type": "stream",
          "text": [
            "Coefficienti stiamati:  [88.75448729]\n",
            "Intercept:  169574.64727704515\n"
          ],
          "name": "stdout"
        }
      ]
    },
    {
      "cell_type": "markdown",
      "metadata": {
        "id": "U2QU6C4XYg4u",
        "colab_type": "text"
      },
      "source": [
        "# TEST PHASE"
      ]
    },
    {
      "cell_type": "code",
      "metadata": {
        "id": "BIPj-4mXTvAy",
        "colab_type": "code",
        "colab": {}
      },
      "source": [
        "#y_pred_dataset is a linear prediction of X_dataset\n",
        "y_pred_test=linear_reg.predict(X_test_r)\n",
        "y_pred_train=linear_reg.predict(X_train_r)\n",
        "y_pred_all=linear_reg.predict(X_all)"
      ],
      "execution_count": 0,
      "outputs": []
    },
    {
      "cell_type": "markdown",
      "metadata": {
        "id": "ruF_8xSgT8Cq",
        "colab_type": "text"
      },
      "source": [
        "**Compute metrics evaluation**"
      ]
    },
    {
      "cell_type": "code",
      "metadata": {
        "id": "igwyBCLbtyOU",
        "colab_type": "code",
        "outputId": "1ff47851-168c-43a3-e1db-f0135776beed",
        "colab": {
          "base_uri": "https://localhost:8080/",
          "height": 155
        }
      },
      "source": [
        "#evaluate the model by using R=1-RSE and MSE\n",
        "R2=linear_reg.score(X_test_r,y_test)\n",
        "MSE = mean_squared_error( y_test,y_pred_test)\n",
        "R2_train=linear_reg.score(X_train_r,y_train)\n",
        "MSE_train = mean_squared_error(y_train,y_pred_train)\n",
        "print ('TEST\\nR^2=',R2,'\\nMSE= %f \\n' % MSE)\n",
        "print ('TRAIN\\nR^2=',R2_train,'\\nMSE= %f \\n' % MSE_train)"
      ],
      "execution_count": 20,
      "outputs": [
        {
          "output_type": "stream",
          "text": [
            "TEST\n",
            "R^2= 0.7735612959989804 \n",
            "MSE= 3544186955.826805 \n",
            "\n",
            "TRAIN\n",
            "R^2= 0.7439658149218102 \n",
            "MSE= 3040577445.880692 \n",
            "\n"
          ],
          "name": "stdout"
        }
      ]
    },
    {
      "cell_type": "markdown",
      "metadata": {
        "id": "VEHkP7xhYX7-",
        "colab_type": "text"
      },
      "source": [
        "# PLOT RESULTS"
      ]
    },
    {
      "cell_type": "code",
      "metadata": {
        "id": "y9X0Uj2-dY6W",
        "colab_type": "code",
        "outputId": "764cceaa-ed15-4c8f-d2d1-47f304257e30",
        "colab": {
          "base_uri": "https://localhost:8080/",
          "height": 279
        }
      },
      "source": [
        "\n",
        "#show the solution\n",
        "fig, axs = plt.subplots(1,1)\n",
        "\n",
        "axs.set_xlabel('sup')\n",
        "axs.set_ylabel('price')\n",
        "axs.scatter(X_test,y_test)\n",
        "axs.scatter(X_train,y_train,color='red')\n",
        "axs.plot(X_all,y_pred_all,c='green',linewidth=3)\n",
        "fig.show()"
      ],
      "execution_count": 22,
      "outputs": [
        {
          "output_type": "display_data",
          "data": {
            "image/png": "[encoded data removed]",
            "text/plain": [
              "<Figure size 432x288 with 1 Axes>"
            ]
          },
          "metadata": {
            "tags": []
          }
        }
      ]
    },
    {
      "cell_type": "code",
      "metadata": {
        "colab_type": "code",
        "id": "T5WvvHmcxP40",
        "colab": {}
      },
      "source": [
        ""
      ],
      "execution_count": 0,
      "outputs": []
    }
  ]
}