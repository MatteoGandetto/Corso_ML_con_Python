{
  "nbformat": 4,
  "nbformat_minor": 0,
  "metadata": {
    "colab": {
      "name": "Regressione NL Decision Tree.ipynb",
      "provenance": [],
      "collapsed_sections": [],
      "toc_visible": true,
      "authorship_tag": "ABX9TyMdRwdAmKWyWI5hQ0brBjkz",
      "include_colab_link": true
    },
    "kernelspec": {
      "name": "python3",
      "display_name": "Python 3"
    }
  },
  "cells": [
    {
      "cell_type": "markdown",
      "metadata": {
        "id": "view-in-github",
        "colab_type": "text"
      },
      "source": [
        "<a href=\"https://colab.research.google.com/github/MatteoGandetto/Corso_Python_new/blob/master/Regressione_NL_Decision_Tree.ipynb\" target=\"_parent\"><img src=\"https://colab.research.google.com/assets/colab-badge.svg\" alt=\"Open In Colab\"/></a>"
      ]
    },
    {
      "cell_type": "markdown",
      "metadata": {
        "id": "nNbhljgJ88Hv",
        "colab_type": "text"
      },
      "source": [
        "**Mounting Google Drive in Runtime Machine**"
      ]
    },
    {
      "cell_type": "code",
      "metadata": {
        "id": "6Iz1I9JZ89XS",
        "colab_type": "code",
        "outputId": "63cd53e3-a5c3-4c03-85f1-afafdb868de0",
        "colab": {
          "base_uri": "https://localhost:8080/",
          "height": 124
        }
      },
      "source": [
        "from google.colab import drive\n",
        "drive.mount('/content/drive')"
      ],
      "execution_count": 1,
      "outputs": [
        {
          "output_type": "stream",
          "text": [
            "Go to this URL in a browser: https://accounts.google.com/o/oauth2/auth?client_id=947318989803-6bn6qk8qdgf4n4g3pfee6491hc0brc4i.apps.googleusercontent.com&redirect_uri=urn%3aietf%3awg%3aoauth%3a2.0%3aoob&response_type=code&scope=email%20https%3a%2f%2fwww.googleapis.com%2fauth%2fdocs.test%20https%3a%2f%2fwww.googleapis.com%2fauth%2fdrive%20https%3a%2f%2fwww.googleapis.com%2fauth%2fdrive.photos.readonly%20https%3a%2f%2fwww.googleapis.com%2fauth%2fpeopleapi.readonly\n",
            "\n",
            "Enter your authorization code:\n",
            "··········\n",
            "Mounted at /content/drive\n"
          ],
          "name": "stdout"
        }
      ]
    },
    {
      "cell_type": "markdown",
      "metadata": {
        "id": "fqLpY3uf9jTc",
        "colab_type": "text"
      },
      "source": [
        "\n",
        "\n",
        "---\n",
        "\n",
        "\n",
        "\n",
        "---\n",
        "\n",
        "\n",
        "**Install Libraries**"
      ]
    },
    {
      "cell_type": "code",
      "metadata": {
        "id": "S417_s5XPFUE",
        "colab_type": "code",
        "colab": {
          "base_uri": "https://localhost:8080/",
          "height": 245
        },
        "outputId": "c3cf0994-773c-4502-bb32-a5463aac472b"
      },
      "source": [
        "!pip install --upgrade -q gspread\n",
        "!pip install gspread-dataframe"
      ],
      "execution_count": 2,
      "outputs": [
        {
          "output_type": "stream",
          "text": [
            "Requirement already satisfied: gspread-dataframe in /usr/local/lib/python3.6/dist-packages (3.0.4)\n",
            "Requirement already satisfied: pandas>=0.14.0 in /usr/local/lib/python3.6/dist-packages (from gspread-dataframe) (0.25.3)\n",
            "Requirement already satisfied: gspread>=3.0.0 in /usr/local/lib/python3.6/dist-packages (from gspread-dataframe) (3.3.0)\n",
            "Requirement already satisfied: pytz>=2017.2 in /usr/local/lib/python3.6/dist-packages (from pandas>=0.14.0->gspread-dataframe) (2018.9)\n",
            "Requirement already satisfied: python-dateutil>=2.6.1 in /usr/local/lib/python3.6/dist-packages (from pandas>=0.14.0->gspread-dataframe) (2.8.1)\n",
            "Requirement already satisfied: numpy>=1.13.3 in /usr/local/lib/python3.6/dist-packages (from pandas>=0.14.0->gspread-dataframe) (1.18.2)\n",
            "Requirement already satisfied: requests>=2.2.1 in /usr/local/lib/python3.6/dist-packages (from gspread>=3.0.0->gspread-dataframe) (2.21.0)\n",
            "Requirement already satisfied: six>=1.5 in /usr/local/lib/python3.6/dist-packages (from python-dateutil>=2.6.1->pandas>=0.14.0->gspread-dataframe) (1.12.0)\n",
            "Requirement already satisfied: chardet<3.1.0,>=3.0.2 in /usr/local/lib/python3.6/dist-packages (from requests>=2.2.1->gspread>=3.0.0->gspread-dataframe) (3.0.4)\n",
            "Requirement already satisfied: certifi>=2017.4.17 in /usr/local/lib/python3.6/dist-packages (from requests>=2.2.1->gspread>=3.0.0->gspread-dataframe) (2019.11.28)\n",
            "Requirement already satisfied: idna<2.9,>=2.5 in /usr/local/lib/python3.6/dist-packages (from requests>=2.2.1->gspread>=3.0.0->gspread-dataframe) (2.8)\n",
            "Requirement already satisfied: urllib3<1.25,>=1.21.1 in /usr/local/lib/python3.6/dist-packages (from requests>=2.2.1->gspread>=3.0.0->gspread-dataframe) (1.24.3)\n"
          ],
          "name": "stdout"
        }
      ]
    },
    {
      "cell_type": "markdown",
      "metadata": {
        "id": "QQuPWruMPeGu",
        "colab_type": "text"
      },
      "source": [
        "\n",
        "\n",
        "---\n",
        "---\n",
        "\n",
        "\n",
        "**Import Libraries**"
      ]
    },
    {
      "cell_type": "code",
      "metadata": {
        "id": "fCPH_BJmdYE3",
        "colab_type": "code",
        "colab": {}
      },
      "source": [
        "# package for scientific computing\n",
        "import numpy as np\n",
        "\n",
        "#collection of command style functions that make matplotlib work like MATLAB\n",
        "import matplotlib.pyplot as plt \n",
        "\n",
        "#data analysis and manipulation tool\n",
        "import pandas as pd \n",
        "\n",
        "#Python API for Google Sheets\n",
        "import gspread\n",
        "from gspread_dataframe import get_as_dataframe, set_with_dataframe"
      ],
      "execution_count": 0,
      "outputs": []
    },
    {
      "cell_type": "code",
      "metadata": {
        "id": "ckrXqnoaSi0O",
        "colab_type": "code",
        "colab": {}
      },
      "source": [
        "from google.colab import auth\n",
        "auth.authenticate_user()\n",
        "from oauth2client.client import GoogleCredentials\n",
        "gs=gspread.authorize(GoogleCredentials.get_application_default())"
      ],
      "execution_count": 0,
      "outputs": []
    },
    {
      "cell_type": "markdown",
      "metadata": {
        "id": "8bCKPI2M9qEy",
        "colab_type": "text"
      },
      "source": [
        "\n",
        "\n",
        "---\n",
        "---\n",
        "**Load GoogleSheet data into a dataFrame and plot them**"
      ]
    },
    {
      "cell_type": "code",
      "metadata": {
        "id": "4uQjeFNJ2--r",
        "colab_type": "code",
        "colab": {
          "base_uri": "https://localhost:8080/",
          "height": 539
        },
        "outputId": "5594dff4-d523-43a1-8eb4-96ee609bfd80"
      },
      "source": [
        "FILE_NAME='Regressione_NL_Decision_Tree_IN_2'\n",
        "wks=gs.open(FILE_NAME).sheet1\n",
        "INPUT_df=get_as_dataframe(wks)\n",
        "\n",
        "#remove all NaN\n",
        "INPUT_df=INPUT_df.dropna(1,'all')\n",
        "INPUT_df=INPUT_df.dropna(0,'all')\n",
        "\n",
        "#convert to NumPy array\n",
        "#you can also use INPUT_DF.values\n",
        "np_IN=np.array(INPUT_df)\n",
        "np_IN_X=np_IN[:,0]\n",
        "np_IN_Y=np_IN[:,1]\n",
        "\n",
        "#plot data\n",
        "fig, axs = plt.subplots(1,2)\n",
        "axs[0].scatter(np_IN_X, np_IN_Y)\n",
        "axs[1].boxplot(np_IN_X)\n",
        "\n",
        "INPUT_df.describe()"
      ],
      "execution_count": 21,
      "outputs": [
        {
          "output_type": "execute_result",
          "data": {
            "text/html": [
              "<div>\n",
              "<style scoped>\n",
              "    .dataframe tbody tr th:only-of-type {\n",
              "        vertical-align: middle;\n",
              "    }\n",
              "\n",
              "    .dataframe tbody tr th {\n",
              "        vertical-align: top;\n",
              "    }\n",
              "\n",
              "    .dataframe thead th {\n",
              "        text-align: right;\n",
              "    }\n",
              "</style>\n",
              "<table border=\"1\" class=\"dataframe\">\n",
              "  <thead>\n",
              "    <tr style=\"text-align: right;\">\n",
              "      <th></th>\n",
              "      <th>Superficie [mq]</th>\n",
              "      <th>prezzo [euro]</th>\n",
              "    </tr>\n",
              "  </thead>\n",
              "  <tbody>\n",
              "    <tr>\n",
              "      <th>count</th>\n",
              "      <td>121.000000</td>\n",
              "      <td>121.000000</td>\n",
              "    </tr>\n",
              "    <tr>\n",
              "      <th>mean</th>\n",
              "      <td>119.520661</td>\n",
              "      <td>120913.484591</td>\n",
              "    </tr>\n",
              "    <tr>\n",
              "      <th>std</th>\n",
              "      <td>34.204556</td>\n",
              "      <td>40957.817492</td>\n",
              "    </tr>\n",
              "    <tr>\n",
              "      <th>min</th>\n",
              "      <td>55.000000</td>\n",
              "      <td>20516.015512</td>\n",
              "    </tr>\n",
              "    <tr>\n",
              "      <th>25%</th>\n",
              "      <td>95.000000</td>\n",
              "      <td>97367.460307</td>\n",
              "    </tr>\n",
              "    <tr>\n",
              "      <th>50%</th>\n",
              "      <td>124.000000</td>\n",
              "      <td>125531.569465</td>\n",
              "    </tr>\n",
              "    <tr>\n",
              "      <th>75%</th>\n",
              "      <td>147.000000</td>\n",
              "      <td>149468.738664</td>\n",
              "    </tr>\n",
              "    <tr>\n",
              "      <th>max</th>\n",
              "      <td>175.000000</td>\n",
              "      <td>194341.740070</td>\n",
              "    </tr>\n",
              "  </tbody>\n",
              "</table>\n",
              "</div>"
            ],
            "text/plain": [
              "       Superficie [mq]  prezzo [euro]\n",
              "count       121.000000     121.000000\n",
              "mean        119.520661  120913.484591\n",
              "std          34.204556   40957.817492\n",
              "min          55.000000   20516.015512\n",
              "25%          95.000000   97367.460307\n",
              "50%         124.000000  125531.569465\n",
              "75%         147.000000  149468.738664\n",
              "max         175.000000  194341.740070"
            ]
          },
          "metadata": {
            "tags": []
          },
          "execution_count": 21
        },
        {
          "output_type": "display_data",
          "data": {
            "image/png": "[encoded data removed]",
            "text/plain": [
              "<Figure size 432x288 with 2 Axes>"
            ]
          },
          "metadata": {
            "tags": []
          }
        }
      ]
    },
    {
      "cell_type": "markdown",
      "metadata": {
        "id": "7yu36ApQzPhn",
        "colab_type": "text"
      },
      "source": [
        "\n",
        "\n",
        "---\n",
        "\n",
        "\n",
        "\n",
        "---\n",
        "\n"
      ]
    },
    {
      "cell_type": "code",
      "metadata": {
        "id": "5X0J_DKLuLUA",
        "colab_type": "code",
        "colab": {}
      },
      "source": [
        "from sklearn.linear_model import LinearRegression\n",
        "from sklearn.model_selection import train_test_split\n",
        "from sklearn.metrics import mean_squared_error\n",
        "\n",
        "#split dataset in training part and test part\n",
        "# if train_size and test_size are not defined,the train_size=0.75 and test_size=0.25\n",
        "X_train, X_test, y_train, y_test = train_test_split(np_IN_X,np_IN_Y,test_size=0.25)\n",
        "\n",
        "#reshape features to be used with LinearRegression's methods\n",
        "X_train_r=np.reshape(X_train,(-1, 1))\n",
        "X_test_r=np.reshape(X_test,(-1, 1))\n"
      ],
      "execution_count": 0,
      "outputs": []
    },
    {
      "cell_type": "markdown",
      "metadata": {
        "id": "fT-YCjPndSZG",
        "colab_type": "text"
      },
      "source": [
        "\n",
        "---\n",
        "---\n",
        "Machine Learning\n",
        "**ALGORITMO DI REGRESSIONE LINEARE**"
      ]
    },
    {
      "cell_type": "code",
      "metadata": {
        "id": "y9X0Uj2-dY6W",
        "colab_type": "code",
        "outputId": "624fff80-1051-474b-ac3d-3a62683bab2f",
        "colab": {
          "base_uri": "https://localhost:8080/",
          "height": 508
        }
      },
      "source": [
        "\n",
        "#train the linear regressor\n",
        "reg = LinearRegression().fit(X_train_r, y_train)\n",
        "\n",
        "#y_pred is a linear prediction of X_test\n",
        "y_pred_test=reg.predict(X_test_r)\n",
        "y_pred_train=reg.predict(X_train_r)\n",
        "\n",
        "#evaluate the model by using R=1-RSE and MSE\n",
        "R2=reg.score(X_test_r,y_test)\n",
        "MSE = mean_squared_error( y_test,y_pred_test)\n",
        "R2_train=reg.score(X_train_r,y_train)\n",
        "MSE_train = mean_squared_error(y_train,y_pred_train)\n",
        "print ('TEST\\nR^2=',R2,'\\nMSE= %f \\n' % MSE)\n",
        "print ('TRAIN\\nR^2=',R2_train,'\\nMSE= %f \\n' % MSE_train)\n",
        "\n",
        "#show the solution\n",
        "fig, axs = plt.subplots(2,1)\n",
        "\n",
        "pos0=axs[0].get_position()\n",
        "pos0_new=[pos0.x0,pos0.y0+0.2,pos0.width,pos0.height]\n",
        "axs[0].set_position(pos0_new)\n",
        "axs[0].set_xlabel('sup [mq]')\n",
        "axs[0].set_ylabel('price [euro]')\n",
        "axs[0].set_title('TEST')\n",
        "axs[0].scatter(X_test,y_test)\n",
        "axs[0].plot(X_test,y_pred_test,c='red',linewidth=3)\n",
        "\n",
        "axs[1].set_title('TRAIN')\n",
        "axs[1].set_xlabel('sup [mq]')\n",
        "axs[1].set_ylabel('price [euro]')\n",
        "axs[1].scatter(X_train,y_train)\n",
        "axs[1].plot(X_train,y_pred_train,c='red',linewidth=3)"
      ],
      "execution_count": 10,
      "outputs": [
        {
          "output_type": "stream",
          "text": [
            "TEST\n",
            "R^2= 0.3682487501147911 \n",
            "MSE= 1552446607.635712 \n",
            "\n",
            "TRAIN\n",
            "R^2= 0.27105078012180617 \n",
            "MSE= 1013071402.313694 \n",
            "\n"
          ],
          "name": "stdout"
        },
        {
          "output_type": "execute_result",
          "data": {
            "text/plain": [
              "[<matplotlib.lines.Line2D at 0x7f7276926710>]"
            ]
          },
          "metadata": {
            "tags": []
          },
          "execution_count": 10
        },
        {
          "output_type": "display_data",
          "data": {
            "image/png": "[encoded data removed]",
            "text/plain": [
              "<Figure size 432x288 with 2 Axes>"
            ]
          },
          "metadata": {
            "tags": []
          }
        }
      ]
    },
    {
      "cell_type": "markdown",
      "metadata": {
        "id": "1Og8za35uppI",
        "colab_type": "text"
      },
      "source": [
        "\n",
        "---\n",
        "---\n",
        "Machine Learning\n",
        "**ALGORITMO DI REGRESSIONE POLINOMIALE**"
      ]
    },
    {
      "cell_type": "code",
      "metadata": {
        "id": "SbQDVkcAqjkU",
        "colab_type": "code",
        "outputId": "cc51e172-a236-4120-bad0-1c81455d142c",
        "colab": {
          "base_uri": "https://localhost:8080/",
          "height": 508
        }
      },
      "source": [
        "# Fitting Polynomial Regression to the dataset\n",
        "from sklearn.preprocessing import PolynomialFeatures\n",
        "\n",
        "poly_reg = PolynomialFeatures(degree=3)\n",
        "X_poly_train = poly_reg.fit_transform(X_train_r)\n",
        "X_poly_test = poly_reg.fit_transform(X_test_r)\n",
        "\n",
        "#train the Linear Regression with trandformed 'polinomially' features\n",
        "pol_reg = LinearRegression()\n",
        "pol_reg.fit(X_poly_train, y_train)\n",
        "\n",
        "#y_pred_xxx is a prediction of X_poly_xxx\n",
        "y_pred_test=pol_reg.predict(X_poly_test)\n",
        "y_pred_train=pol_reg.predict(X_poly_train)\n",
        "\n",
        "\n",
        "#evaluate the model by using R=1-RSE and MSE\n",
        "R2=pol_reg.score(X_poly_test,y_test)\n",
        "MSE = mean_squared_error( y_test,y_pred_test)\n",
        "R2_train=pol_reg.score(X_poly_train,y_train)\n",
        "MSE_train = mean_squared_error(y_train,y_pred_train)\n",
        "print ('TEST\\nR^2=',R2,'\\nMSE= %f \\n' % MSE)\n",
        "print ('TRAIN\\nR^2=',R2_train,'\\nMSE= %f \\n' % MSE_train)\n",
        "\n",
        "#show the solution\n",
        "fig, axs = plt.subplots(2,1)\n",
        "\n",
        "pos0=axs[0].get_position()\n",
        "pos0_new=[pos0.x0,pos0.y0+0.2,pos0.width,pos0.height]\n",
        "axs[0].set_position(pos0_new)\n",
        "axs[0].set_xlabel('sup [mq]')\n",
        "axs[0].set_ylabel('price [euro]')\n",
        "axs[0].set_title('TEST')\n",
        "axs[0].scatter(X_test,y_test)\n",
        "axs[0].scatter(X_test,y_pred_test,c='red',linewidth=1)\n",
        "\n",
        "axs[1].set_title('TRAIN')\n",
        "axs[1].set_xlabel('sup [mq]')\n",
        "axs[1].set_ylabel('price [euro]')\n",
        "axs[1].scatter(X_train,y_train)\n",
        "axs[1].scatter(X_train,y_pred_train,c='red',linewidth=1)"
      ],
      "execution_count": 37,
      "outputs": [
        {
          "output_type": "stream",
          "text": [
            "TEST\n",
            "R^2= 0.692626066501918 \n",
            "MSE= 602845481.596859 \n",
            "\n",
            "TRAIN\n",
            "R^2= 0.49308973012897106 \n",
            "MSE= 791373404.133067 \n",
            "\n"
          ],
          "name": "stdout"
        },
        {
          "output_type": "execute_result",
          "data": {
            "text/plain": [
              "<matplotlib.collections.PathCollection at 0x7fab4d106dd8>"
            ]
          },
          "metadata": {
            "tags": []
          },
          "execution_count": 37
        },
        {
          "output_type": "display_data",
          "data": {
            "image/png": "[encoded data removed]",
            "text/plain": [
              "<Figure size 432x288 with 2 Axes>"
            ]
          },
          "metadata": {
            "tags": []
          }
        }
      ]
    },
    {
      "cell_type": "markdown",
      "metadata": {
        "id": "8ji4IsaOiVm4",
        "colab_type": "text"
      },
      "source": [
        "Machine Learning\n",
        "**ALGORITMO DI REGRESSIONE DECISION TREE**"
      ]
    },
    {
      "cell_type": "code",
      "metadata": {
        "colab_type": "code",
        "outputId": "28665c47-795d-4a43-cd72-8106eacee2dd",
        "id": "tA_xWhqqiT3i",
        "colab": {
          "base_uri": "https://localhost:8080/",
          "height": 508
        }
      },
      "source": [
        "# import library\n",
        "from sklearn.tree import DecisionTreeRegressor\n",
        "\n",
        "#create an istance of DT regressor\n",
        "#max_depth: max number of levels\n",
        "#min_samples_leaf: ceil(min_samples_leaf * n_samples) are the minimum number of \n",
        "#samples for each node-> level of 'smoothing' of the model\n",
        "dtree = DecisionTreeRegressor(max_depth=10, min_samples_leaf=0.07)\n",
        "\n",
        "#train DT on traingin set\n",
        "dtree.fit(X_train_r, y_train)\n",
        "\n",
        "#y_pred_xxx is a prediction of X_xxx\n",
        "y_pred_test=dtree.predict(X_test_r)\n",
        "y_pred_train=dtree.predict(X_train_r)\n",
        "\n",
        "#evaluate the model by using R=1-RSE and MSE\n",
        "R2=dtree.score(X_test_r,y_test)\n",
        "MSE = mean_squared_error(y_test,y_pred_test)\n",
        "R2_train=dtree.score(X_train_r,y_train)\n",
        "MSE_train = mean_squared_error(y_train,y_pred_train)\n",
        "print ('TEST\\nR^2=',R2,'\\nMSE= %f \\n' % MSE)\n",
        "print ('TRAIN\\nR^2=',R2_train,'\\nMSE= %f \\n' % MSE_train)\n",
        "\n",
        "#show the solution\n",
        "fig, axs = plt.subplots(2,1)\n",
        "\n",
        "pos0=axs[0].get_position()\n",
        "pos0_new=[pos0.x0,pos0.y0+0.2,pos0.width,pos0.height]\n",
        "axs[0].set_position(pos0_new)\n",
        "axs[0].set_xlabel('sup [mq]')\n",
        "axs[0].set_ylabel('price [euro]')\n",
        "axs[0].set_title('TEST')\n",
        "axs[0].scatter(X_test,y_test)\n",
        "axs[0].scatter(X_test,y_pred_test,c='red',linewidth=1)\n",
        "\n",
        "axs[1].set_title('TRAIN')\n",
        "axs[1].set_xlabel('sup [mq]')\n",
        "axs[1].set_ylabel('price [euro]')\n",
        "axs[1].scatter(X_train,y_train)\n",
        "axs[1].scatter(X_train,y_pred_train,c='red',linewidth=1)"
      ],
      "execution_count": 19,
      "outputs": [
        {
          "output_type": "stream",
          "text": [
            "TEST\n",
            "R^2= 0.636915244708911 \n",
            "MSE= 892233607.354657 \n",
            "\n",
            "TRAIN\n",
            "R^2= 0.5975584490683936 \n",
            "MSE= 559300998.250202 \n",
            "\n"
          ],
          "name": "stdout"
        },
        {
          "output_type": "execute_result",
          "data": {
            "text/plain": [
              "<matplotlib.collections.PathCollection at 0x7f72748a0d30>"
            ]
          },
          "metadata": {
            "tags": []
          },
          "execution_count": 19
        },
        {
          "output_type": "display_data",
          "data": {
            "image/png": "[encoded data removed]",
            "text/plain": [
              "<Figure size 432x288 with 2 Axes>"
            ]
          },
          "metadata": {
            "tags": []
          }
        }
      ]
    }
  ]
}