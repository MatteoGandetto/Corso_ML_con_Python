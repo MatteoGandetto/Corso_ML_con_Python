{
  "nbformat": 4,
  "nbformat_minor": 0,
  "metadata": {
    "colab": {
      "name": "Regressione Polinomiale.ipynb",
      "provenance": [],
      "collapsed_sections": [],
      "toc_visible": true,
      "include_colab_link": true
    },
    "kernelspec": {
      "name": "python3",
      "display_name": "Python 3"
    }
  },
  "cells": [
    {
      "cell_type": "markdown",
      "metadata": {
        "id": "view-in-github",
        "colab_type": "text"
      },
      "source": [
        "<a href=\"https://colab.research.google.com/github/MatteoGandetto/Corso_ML_con_Python/blob/master/Regressione_Polinomiale.ipynb\" target=\"_parent\"><img src=\"https://colab.research.google.com/assets/colab-badge.svg\" alt=\"Open In Colab\"/></a>"
      ]
    },
    {
      "cell_type": "markdown",
      "metadata": {
        "id": "fAl6Zb6JpHV0",
        "colab_type": "text"
      },
      "source": [
        "# IMPORT GENERAL LIBRARIES"
      ]
    },
    {
      "cell_type": "code",
      "metadata": {
        "id": "fCPH_BJmdYE3",
        "colab_type": "code",
        "colab": {}
      },
      "source": [
        "# package for scientific computing\n",
        "import numpy as np\n",
        "\n",
        "#collection of command style functions that make matplotlib work like MATLAB\n",
        "import matplotlib.pyplot as plt \n",
        "\n",
        "#data analysis and manipulation tool\n",
        "import pandas as pd "
      ],
      "execution_count": 0,
      "outputs": []
    },
    {
      "cell_type": "markdown",
      "metadata": {
        "id": "98dWacLhpACA",
        "colab_type": "text"
      },
      "source": [
        "# IMPORT DATA FROM EXTERNAL SOURCE"
      ]
    },
    {
      "cell_type": "code",
      "metadata": {
        "id": "4uQjeFNJ2--r",
        "colab_type": "code",
        "outputId": "377fcbfe-a5d7-47fd-f494-6f0f5bb8fbd1",
        "colab": {
          "base_uri": "https://localhost:8080/",
          "height": 540
        }
      },
      "source": [
        "\n",
        "path='https://raw.githubusercontent.com/MatteoGandetto/Corso_ML_con_Python/master/Regressione_Polinomiale_IN.csv'\n",
        "INPUT_df=pd.read_csv(path)\n",
        "\n",
        "print('INPUT DATASET')\n",
        "print(INPUT_df.head())\n",
        "print('Dimensione:',INPUT_df.shape,'\\n')\n",
        "\n",
        "#remove all NaN\n",
        "# 0 -> rows\n",
        "# 1 -> columns\n",
        "INPUT_df=INPUT_df.dropna(1,'all')\n",
        "INPUT_df=INPUT_df.dropna(0,'all')\n",
        "\n",
        "\n",
        "#convert to NumPy array\n",
        "np_IN=np.array(INPUT_df)\n",
        "np_IN_X=np_IN[:,0]\n",
        "np_IN_y=np_IN[:,1]\n",
        "print('Dimensione features vectors',np_IN_X.shape,'\\nDimensione output',np_IN_y.shape)\n",
        "\n",
        "#plot data\n",
        "fig, axs = plt.subplots(1,2)\n",
        "fig.set_size_inches(12,5)\n",
        "\n",
        "axs[0].scatter(np_IN_X, np_IN_y)\n",
        "axs[0].set_xlabel('sup')\n",
        "axs[0].set_ylabel('price')\n",
        "axs[0].set_title('Dataset')\n",
        "\n",
        "axs[1].boxplot(np_IN_X)\n",
        "axs[1].set_ylabel('sup value')\n",
        "axs[1].set_title('sup Details')\n",
        "fig.show()"
      ],
      "execution_count": 34,
      "outputs": [
        {
          "output_type": "stream",
          "text": [
            "INPUT DATASET\n",
            "   Superficie   Prezzo\n",
            "0          60   338611\n",
            "1          70   655033\n",
            "2         140  5697001\n",
            "3         150  7011305\n",
            "4          79   534887\n",
            "Dimensione: (108, 2) \n",
            "\n",
            "Dimensione features vectors (108,) \n",
            "Dimensione output (108,)\n"
          ],
          "name": "stdout"
        },
        {
          "output_type": "display_data",
          "data": {
            "image/png": "[encoded data removed]",
            "text/plain": [
              "<Figure size 864x360 with 2 Axes>"
            ]
          },
          "metadata": {
            "tags": []
          }
        }
      ]
    },
    {
      "cell_type": "markdown",
      "metadata": {
        "id": "l6iCjHnqo0eV",
        "colab_type": "text"
      },
      "source": [
        "# LIBRARIES FOR MACHINE LEARNING"
      ]
    },
    {
      "cell_type": "code",
      "metadata": {
        "id": "q7AmzJ0PSywq",
        "colab_type": "code",
        "colab": {}
      },
      "source": [
        "from sklearn.linear_model import LinearRegression\n",
        "from sklearn.model_selection import train_test_split\n",
        "from sklearn.metrics import mean_squared_error"
      ],
      "execution_count": 0,
      "outputs": []
    },
    {
      "cell_type": "markdown",
      "metadata": {
        "id": "vL7Fj35coWUZ",
        "colab_type": "text"
      },
      "source": [
        "# DATA PRE-PROCESSING"
      ]
    },
    {
      "cell_type": "code",
      "metadata": {
        "id": "_Tt9R7kJsxwg",
        "colab_type": "code",
        "colab": {}
      },
      "source": [
        "# split dataset in training part and test part\n",
        "# if train_size and test_size are not defined,the train_size=0.75 and test_size=0.25\n",
        "X_train, X_test, y_train, y_test = train_test_split(np_IN_X,np_IN_y,test_size=0.25)\n"
      ],
      "execution_count": 0,
      "outputs": []
    },
    {
      "cell_type": "markdown",
      "metadata": {
        "id": "VGl3fmZjC7Vu",
        "colab_type": "text"
      },
      "source": [
        "# SIMPLE LINEAR SOLUTION"
      ]
    },
    {
      "cell_type": "code",
      "metadata": {
        "id": "XpgJ23L7BPBm",
        "colab_type": "code",
        "colab": {
          "base_uri": "https://localhost:8080/",
          "height": 488
        },
        "outputId": "4c5e5854-e6bb-455a-8478-06be54cc086f"
      },
      "source": [
        "#reshape features to be used with LinearRegression's methods\n",
        "X_train_r=np.reshape(X_train,(-1, 1))\n",
        "X_test_r=np.reshape(X_test,(-1, 1))\n",
        "X_all=np.reshape(np_IN_X,(-1,1))\n",
        "\n",
        "#train the linear regressor\n",
        "reg = LinearRegression().fit(X_train_r, y_train)\n",
        "\n",
        "#y_pred is a linear prediction of X_test\n",
        "y_pred_test=reg.predict(X_test_r)\n",
        "y_pred_train=reg.predict(X_train_r)\n",
        "\n",
        "#evaluate the model by using R=1-RSE and MSE\n",
        "R2=reg.score(X_test_r,y_test)\n",
        "MSE = mean_squared_error( y_test,y_pred_test)\n",
        "R2_train=reg.score(X_train_r,y_train)\n",
        "MSE_train = mean_squared_error(y_train,y_pred_train)\n",
        "print ('TEST\\nR^2=',R2,'\\nMSE= %f \\n' % MSE)\n",
        "print ('TRAIN\\nR^2=',R2_train,'\\nMSE= %f \\n' % MSE_train)\n",
        "\n",
        "#show the solution\n",
        "fig, axs = plt.subplots(1,2)\n",
        "fig.set_size_inches(12,5)\n",
        "\n",
        "\n",
        "axs[0].set_xlabel('sup')\n",
        "axs[0].set_ylabel('price')\n",
        "axs[0].set_title('TEST')\n",
        "axs[0].scatter(X_test,y_test)\n",
        "axs[0].plot(X_test,y_pred_test,c='red',linewidth=3)\n",
        "\n",
        "axs[1].set_title('TRAIN')\n",
        "axs[1].set_xlabel('sup')\n",
        "axs[1].set_ylabel('price')\n",
        "axs[1].scatter(X_train,y_train)\n",
        "axs[1].plot(X_train,y_pred_train,c='red',linewidth=3)\n",
        "\n",
        "fig.show()"
      ],
      "execution_count": 37,
      "outputs": [
        {
          "output_type": "stream",
          "text": [
            "TEST\n",
            "R^2= 0.8977732609470181 \n",
            "MSE= 445160450061.797729 \n",
            "\n",
            "TRAIN\n",
            "R^2= 0.9003385923013704 \n",
            "MSE= 390812840167.561829 \n",
            "\n"
          ],
          "name": "stdout"
        },
        {
          "output_type": "display_data",
          "data": {
            "image/png": "[encoded data removed]",
            "text/plain": [
              "<Figure size 864x360 with 2 Axes>"
            ]
          },
          "metadata": {
            "tags": []
          }
        }
      ]
    },
    {
      "cell_type": "markdown",
      "metadata": {
        "id": "4NIJZoIJDAqq",
        "colab_type": "text"
      },
      "source": [
        "# POLYNOMIAL SOLUTION"
      ]
    },
    {
      "cell_type": "code",
      "metadata": {
        "id": "q379jqBKBz9o",
        "colab_type": "code",
        "colab": {
          "base_uri": "https://localhost:8080/",
          "height": 155
        },
        "outputId": "4db698b7-8f6a-4a05-d8ed-b25c9bf1abfd"
      },
      "source": [
        "# Import methods\n",
        "from sklearn.preprocessing import PolynomialFeatures\n",
        "\n",
        "#modify features to polynomial aspect\n",
        "poly_reg = PolynomialFeatures(degree=3)\n",
        "X_poly_train = poly_reg.fit_transform(X_train_r)\n",
        "X_poly_test = poly_reg.fit_transform(X_test_r)\n",
        "X_poly_all = poly_reg.fit_transform(X_all)\n",
        "\n",
        "\n",
        "#train the Linear Regression with trandformed 'polinomially' features\n",
        "pol_reg = LinearRegression()\n",
        "pol_reg.fit(X_poly_train, y_train)\n",
        "\n",
        "#y_pred_xxx is a prediction of X_poly_xxx\n",
        "y_pred_test=pol_reg.predict(X_poly_test)\n",
        "y_pred_train=pol_reg.predict(X_poly_train)\n",
        "y_pred_all=pol_reg.predict(X_poly_all)\n",
        "\n",
        "#evaluate the model by using R=1-RSE and MSE\n",
        "R2=pol_reg.score(X_poly_test,y_test)\n",
        "MSE = mean_squared_error( y_test,y_pred_test)\n",
        "R2_train=pol_reg.score(X_poly_train,y_train)\n",
        "MSE_train = mean_squared_error(y_train,y_pred_train)\n",
        "print ('TEST\\nR^2=',R2,'\\nMSE= %f \\n' % MSE)\n",
        "print ('TRAIN\\nR^2=',R2_train,'\\nMSE= %f \\n' % MSE_train)\n",
        "\n"
      ],
      "execution_count": 38,
      "outputs": [
        {
          "output_type": "stream",
          "text": [
            "TEST\n",
            "R^2= 0.9901029209579916 \n",
            "MSE= 43098197217.796844 \n",
            "\n",
            "TRAIN\n",
            "R^2= 0.9902626467058547 \n",
            "MSE= 38184115441.229134 \n",
            "\n"
          ],
          "name": "stdout"
        }
      ]
    },
    {
      "cell_type": "markdown",
      "metadata": {
        "id": "VEHkP7xhYX7-",
        "colab_type": "text"
      },
      "source": [
        "# PLOT RESULTS"
      ]
    },
    {
      "cell_type": "code",
      "metadata": {
        "id": "y9X0Uj2-dY6W",
        "colab_type": "code",
        "outputId": "09450d6a-47e7-42fb-d9a2-33e76f1baa0f",
        "colab": {
          "base_uri": "https://localhost:8080/",
          "height": 290
        }
      },
      "source": [
        "#show the solution\n",
        "fig, axs = plt.subplots(1,1)\n",
        "\n",
        "axs.set_xlabel('sup [mq]')\n",
        "axs.set_ylabel('price [euro]')\n",
        "axs.scatter(X_test,y_test)\n",
        "axs.scatter(X_train,y_train,color='red')\n",
        "axs.scatter(X_all,y_pred_all,c='green',linewidth=0.5)\n",
        "fig.show()\n",
        "\n",
        "fig.show()"
      ],
      "execution_count": 39,
      "outputs": [
        {
          "output_type": "display_data",
          "data": {
            "image/png": "[encoded data removed]",
            "text/plain": [
              "<Figure size 432x288 with 1 Axes>"
            ]
          },
          "metadata": {
            "tags": []
          }
        }
      ]
    },
    {
      "cell_type": "code",
      "metadata": {
        "colab_type": "code",
        "id": "T5WvvHmcxP40",
        "colab": {}
      },
      "source": [
        ""
      ],
      "execution_count": 0,
      "outputs": []
    }
  ]
}