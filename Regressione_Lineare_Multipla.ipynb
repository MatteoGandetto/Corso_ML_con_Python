{
  "nbformat": 4,
  "nbformat_minor": 0,
  "metadata": {
    "colab": {
      "name": "Regressione Lineare Multipla.ipynb",
      "provenance": [],
      "collapsed_sections": [],
      "authorship_tag": "ABX9TyO/XMR+mlpv9uEs9FNa62Ew",
      "include_colab_link": true
    },
    "kernelspec": {
      "name": "python3",
      "display_name": "Python 3"
    }
  },
  "cells": [
    {
      "cell_type": "markdown",
      "metadata": {
        "id": "view-in-github",
        "colab_type": "text"
      },
      "source": [
        "<a href=\"https://colab.research.google.com/github/MatteoGandetto/Corso_Python_new/blob/master/Regressione_Lineare_Multipla.ipynb\" target=\"_parent\"><img src=\"https://colab.research.google.com/assets/colab-badge.svg\" alt=\"Open In Colab\"/></a>"
      ]
    },
    {
      "cell_type": "markdown",
      "metadata": {
        "id": "nNbhljgJ88Hv",
        "colab_type": "text"
      },
      "source": [
        "**Mounting Google Drive in Runtime Machine**"
      ]
    },
    {
      "cell_type": "code",
      "metadata": {
        "id": "6Iz1I9JZ89XS",
        "colab_type": "code",
        "outputId": "87ac31f7-deb4-4be2-ef65-e6ebc0bb22db",
        "colab": {
          "base_uri": "https://localhost:8080/",
          "height": 55
        }
      },
      "source": [
        "from google.colab import drive\n",
        "drive.mount('/content/drive')"
      ],
      "execution_count": 32,
      "outputs": [
        {
          "output_type": "stream",
          "text": [
            "Drive already mounted at /content/drive; to attempt to forcibly remount, call drive.mount(\"/content/drive\", force_remount=True).\n"
          ],
          "name": "stdout"
        }
      ]
    },
    {
      "cell_type": "markdown",
      "metadata": {
        "id": "fqLpY3uf9jTc",
        "colab_type": "text"
      },
      "source": [
        "\n",
        "\n",
        "---\n",
        "\n",
        "\n",
        "\n",
        "---\n",
        "\n",
        "\n",
        "**Install Libraries**"
      ]
    },
    {
      "cell_type": "code",
      "metadata": {
        "id": "S417_s5XPFUE",
        "colab_type": "code",
        "colab": {}
      },
      "source": [
        "!pip install --upgrade -q gspread\n",
        "!pip install gspread-dataframe"
      ],
      "execution_count": 0,
      "outputs": []
    },
    {
      "cell_type": "markdown",
      "metadata": {
        "id": "QQuPWruMPeGu",
        "colab_type": "text"
      },
      "source": [
        "\n",
        "\n",
        "---\n",
        "---\n",
        "\n",
        "\n",
        "**Import Libraries**"
      ]
    },
    {
      "cell_type": "code",
      "metadata": {
        "id": "fCPH_BJmdYE3",
        "colab_type": "code",
        "colab": {}
      },
      "source": [
        "# package for scientific computing\n",
        "import numpy as np\n",
        "\n",
        "#collection of command style functions that make matplotlib work like MATLAB\n",
        "import matplotlib.pyplot as plt \n",
        "\n",
        "#data analysis and manipulation tool\n",
        "import pandas as pd \n",
        "\n",
        "#Python API for Google Sheets\n",
        "import gspread\n",
        "from gspread_dataframe import get_as_dataframe, set_with_dataframe"
      ],
      "execution_count": 0,
      "outputs": []
    },
    {
      "cell_type": "code",
      "metadata": {
        "id": "ckrXqnoaSi0O",
        "colab_type": "code",
        "colab": {}
      },
      "source": [
        "from google.colab import auth\n",
        "auth.authenticate_user()\n",
        "from oauth2client.client import GoogleCredentials\n",
        "gs=gspread.authorize(GoogleCredentials.get_application_default())"
      ],
      "execution_count": 0,
      "outputs": []
    },
    {
      "cell_type": "markdown",
      "metadata": {
        "id": "8bCKPI2M9qEy",
        "colab_type": "text"
      },
      "source": [
        "\n",
        "\n",
        "---\n",
        "---\n",
        "**Load GoogleSheet dataset into a dataFrame**"
      ]
    },
    {
      "cell_type": "code",
      "metadata": {
        "id": "4uQjeFNJ2--r",
        "colab_type": "code",
        "colab": {}
      },
      "source": [
        "FILE_NAME='Regressione_Lineare_Multipla_IN'\n",
        "wks=gs.open(FILE_NAME).sheet1\n",
        "#datafram with all data\n",
        "INPUT_df=get_as_dataframe(wks)\n",
        "\n",
        "#remove all NaN\n",
        "INPUT_df=INPUT_df.dropna(1,'all')\n",
        "INPUT_df=INPUT_df.dropna(0,'all')\n",
        "\n",
        "#convert to NumPy array\n",
        "np_IN=np.array(INPUT_df)\n",
        "np_IN_X=np_IN[:,0:2]\n",
        "np_IN_Y=np_IN[:,2]\n",
        "#print('dim',np_IN_X.size,'\\n',np_IN_X,'\\ndim',np_IN_Y.size,'\\n',np_IN_Y)\n"
      ],
      "execution_count": 0,
      "outputs": []
    },
    {
      "cell_type": "markdown",
      "metadata": {
        "id": "fT-YCjPndSZG",
        "colab_type": "text"
      },
      "source": [
        "\n",
        "\n",
        "---\n",
        "\n",
        "---\n",
        "\n",
        "Machine Learning\n",
        "\n",
        "**ALGORITMO DI REGRESSIONE LINEARE MULTIPLA**\n",
        "\n"
      ]
    },
    {
      "cell_type": "code",
      "metadata": {
        "id": "IgUKczyDR8Ui",
        "colab_type": "code",
        "colab": {}
      },
      "source": [
        "from sklearn.linear_model import LinearRegression\n",
        "from sklearn.model_selection import train_test_split\n",
        "from sklearn.metrics import mean_squared_error\n",
        "\n",
        "#split dataset in training part and test part\n",
        "# if train_size and test_size are not defined,the train_size=0.75 and test_size=0.25\n",
        "X_train, X_test, y_train, y_test = train_test_split(np_IN_X,np_IN_Y,test_size=0.25)\n",
        "#print('dim TRAIN',X_train.size,'\\n',X_train,'\\ndim TEST',X_test.size,'\\n',X_test)\n"
      ],
      "execution_count": 0,
      "outputs": []
    },
    {
      "cell_type": "markdown",
      "metadata": {
        "id": "nDU64B-hMZeB",
        "colab_type": "text"
      },
      "source": [
        "---\n",
        "---\n",
        "**PreProcess features**\n"
      ]
    },
    {
      "cell_type": "code",
      "metadata": {
        "id": "qUJg6yK2MYrD",
        "colab_type": "code",
        "colab": {}
      },
      "source": [
        "#con più features dobbiamo essere sicuri che queste siano comprese \n",
        "#in un range di valori comune, per far questo abbiamo due possibilità:\n",
        "#Normalizzazione: portiamo tutti i dati in un range compreso tra 0 e 1\n",
        "#Standardizzazione: convertiamo i dati in una distribuzione normale \n",
        "#con media 0 e deviazione standard 1.\n",
        "\n",
        "#normalize\n",
        "\n",
        "\n",
        "#stardadize\n",
        "from sklearn.preprocessing import StandardScaler\n",
        "ss = StandardScaler()\n",
        "X_train_ss = ss.fit_transform(X_train)\n",
        "X_test_ss = ss.transform(X_test)\n"
      ],
      "execution_count": 0,
      "outputs": []
    },
    {
      "cell_type": "code",
      "metadata": {
        "id": "y9X0Uj2-dY6W",
        "colab_type": "code",
        "outputId": "44949860-e3a9-47c8-d18a-3d01f774a93f",
        "colab": {
          "base_uri": "https://localhost:8080/",
          "height": 155
        }
      },
      "source": [
        "\n",
        "#train the linear regressor\n",
        "reg = LinearRegression().fit(X_train_ss, y_train)\n",
        "\n",
        "#y_pred is a linear prediction of X_test\n",
        "y_pred_test=reg.predict(X_test_ss)\n",
        "y_pred_train=reg.predict(X_train_ss)\n",
        "\n",
        "#evaluate the model by using R=1-RSE and MSE\n",
        "R2=reg.score(X_test_ss,y_test)\n",
        "MSE = mean_squared_error( y_test,y_pred_test)\n",
        "R2_train=reg.score(X_train_ss,y_train)\n",
        "MSE_train = mean_squared_error(y_train,y_pred_train)\n",
        "print ('TEST\\nR^2=',R2,'\\nMSE= %f \\n' % MSE)\n",
        "print ('TRAIN\\nR^2=',R2_train,'\\nMSE= %f \\n' % MSE_train)\n"
      ],
      "execution_count": 54,
      "outputs": [
        {
          "output_type": "stream",
          "text": [
            "TEST\n",
            "R^2= 0.5368577050085427 \n",
            "MSE= 769445508.280935 \n",
            "\n",
            "TRAIN\n",
            "R^2= 0.4958449486150365 \n",
            "MSE= 806867876.639038 \n",
            "\n"
          ],
          "name": "stdout"
        }
      ]
    },
    {
      "cell_type": "code",
      "metadata": {
        "id": "dVCNmdtQCtzR",
        "colab_type": "code",
        "colab": {
          "base_uri": "https://localhost:8080/",
          "height": 370
        },
        "outputId": "30768960-20ff-4429-ee4b-32b24b3a5a83"
      },
      "source": [
        "#show the solution\n",
        "fig, axs = plt.subplots(2,1)\n",
        "\n",
        "pos0=axs[0].get_position()\n",
        "pos0_new=[pos0.x0,pos0.y0+0.2,pos0.width,pos0.height]\n",
        "axs[0].set_position(pos0_new)\n",
        "axs[0].set_xlabel('price [euro]')\n",
        "axs[0].set_ylabel('estimated price [euro]')\n",
        "axs[0].set_title('TEST')\n",
        "axs[0].scatter(y_test,y_pred_test)\n",
        "axs[0].plot(y_test,y_test,c='red',linewidth=3)\n",
        "\n",
        "axs[1].set_title('TRAIN')\n",
        "axs[1].set_xlabel('price [euro]')\n",
        "axs[1].set_ylabel('estimated price [euro]')\n",
        "axs[1].scatter(y_train,y_pred_train)\n",
        "axs[1].plot(y_train,y_train,c='red',linewidth=3)\n",
        "\n",
        "#axs[1].plot(X_train,y_pred_train,c='red',linewidth=3)"
      ],
      "execution_count": 55,
      "outputs": [
        {
          "output_type": "execute_result",
          "data": {
            "text/plain": [
              "[<matplotlib.lines.Line2D at 0x7f4f029f7668>]"
            ]
          },
          "metadata": {
            "tags": []
          },
          "execution_count": 55
        },
        {
          "output_type": "display_data",
          "data": {
            "image/png": "[encoded data removed]",
            "text/plain": [
              "<Figure size 432x288 with 2 Axes>"
            ]
          },
          "metadata": {
            "tags": []
          }
        }
      ]
    }
  ]
}