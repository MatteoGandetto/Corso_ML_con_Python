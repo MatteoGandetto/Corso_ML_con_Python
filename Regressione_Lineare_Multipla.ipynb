{
  "nbformat": 4,
  "nbformat_minor": 0,
  "metadata": {
    "colab": {
      "name": "Regressione Lineare Multipla.ipynb",
      "provenance": [],
      "collapsed_sections": [],
      "include_colab_link": true
    },
    "kernelspec": {
      "name": "python3",
      "display_name": "Python 3"
    }
  },
  "cells": [
    {
      "cell_type": "markdown",
      "metadata": {
        "id": "view-in-github",
        "colab_type": "text"
      },
      "source": [
        "<a href=\"https://colab.research.google.com/github/MatteoGandetto/Corso_ML_con_Python/blob/master/Regressione_Lineare_Multipla.ipynb\" target=\"_parent\"><img src=\"https://colab.research.google.com/assets/colab-badge.svg\" alt=\"Open In Colab\"/></a>"
      ]
    },
    {
      "cell_type": "markdown",
      "metadata": {
        "id": "fAl6Zb6JpHV0",
        "colab_type": "text"
      },
      "source": [
        "# IMPORT GENERAL LIBRARIES"
      ]
    },
    {
      "cell_type": "code",
      "metadata": {
        "id": "fCPH_BJmdYE3",
        "colab_type": "code",
        "colab": {}
      },
      "source": [
        "# package for scientific computing\n",
        "import numpy as np\n",
        "\n",
        "#collection of command style functions that make matplotlib work like MATLAB\n",
        "import matplotlib.pyplot as plt \n",
        "\n",
        "#data analysis and manipulation tool\n",
        "import pandas as pd "
      ],
      "execution_count": 0,
      "outputs": []
    },
    {
      "cell_type": "markdown",
      "metadata": {
        "id": "98dWacLhpACA",
        "colab_type": "text"
      },
      "source": [
        "# IMPORT DATA FROM EXTERNAL SOURCE"
      ]
    },
    {
      "cell_type": "code",
      "metadata": {
        "id": "4uQjeFNJ2--r",
        "colab_type": "code",
        "outputId": "bd1f863c-f868-4f09-ee16-8453d721bf3e",
        "colab": {
          "base_uri": "https://localhost:8080/",
          "height": 250
        }
      },
      "source": [
        "\n",
        "path='https://raw.githubusercontent.com/MatteoGandetto/Corso_ML_con_Python/master/Regressione_Lineare_Multipla_IN.csv'\n",
        "INPUT_df=pd.read_csv(path)\n",
        "s_theta = np.zeros((INPUT_df.shape[1], 1))\n",
        "\n",
        "\n",
        "#remove all NaN\n",
        "# 0 -> rows\n",
        "# 1 -> columns\n",
        "INPUT_df=INPUT_df.dropna(1,'all')\n",
        "INPUT_df=INPUT_df.dropna(0,'all')\n",
        "\n",
        "print(INPUT_df.shape)\n",
        "#convert to NumPy array\n",
        "np_IN=np.array(INPUT_df)\n",
        "np_IN_X=np_IN[:,0:2]\n",
        "np_IN_y=np_IN[:,2]\n",
        "print('Dimensione features vectors',np_IN_X.shape,'\\nDimensione output',np_IN_y.shape)\n",
        "INPUT_df.head()\n"
      ],
      "execution_count": 100,
      "outputs": [
        {
          "output_type": "stream",
          "text": [
            "(104, 3)\n",
            "Dimensione features vectors (104, 2) \n",
            "Dimensione output (104,)\n"
          ],
          "name": "stdout"
        },
        {
          "output_type": "execute_result",
          "data": {
            "text/html": [
              "<div>\n",
              "<style scoped>\n",
              "    .dataframe tbody tr th:only-of-type {\n",
              "        vertical-align: middle;\n",
              "    }\n",
              "\n",
              "    .dataframe tbody tr th {\n",
              "        vertical-align: top;\n",
              "    }\n",
              "\n",
              "    .dataframe thead th {\n",
              "        text-align: right;\n",
              "    }\n",
              "</style>\n",
              "<table border=\"1\" class=\"dataframe\">\n",
              "  <thead>\n",
              "    <tr style=\"text-align: right;\">\n",
              "      <th></th>\n",
              "      <th>Superficie [mq]</th>\n",
              "      <th>Vani</th>\n",
              "      <th>Prezzo [euro]</th>\n",
              "    </tr>\n",
              "  </thead>\n",
              "  <tbody>\n",
              "    <tr>\n",
              "      <th>0</th>\n",
              "      <td>1600</td>\n",
              "      <td>3</td>\n",
              "      <td>329900</td>\n",
              "    </tr>\n",
              "    <tr>\n",
              "      <th>1</th>\n",
              "      <td>2400</td>\n",
              "      <td>3</td>\n",
              "      <td>369000</td>\n",
              "    </tr>\n",
              "    <tr>\n",
              "      <th>2</th>\n",
              "      <td>1416</td>\n",
              "      <td>2</td>\n",
              "      <td>232000</td>\n",
              "    </tr>\n",
              "    <tr>\n",
              "      <th>3</th>\n",
              "      <td>3000</td>\n",
              "      <td>4</td>\n",
              "      <td>539900</td>\n",
              "    </tr>\n",
              "    <tr>\n",
              "      <th>4</th>\n",
              "      <td>1985</td>\n",
              "      <td>4</td>\n",
              "      <td>299900</td>\n",
              "    </tr>\n",
              "  </tbody>\n",
              "</table>\n",
              "</div>"
            ],
            "text/plain": [
              "   Superficie [mq]  Vani  Prezzo [euro]\n",
              "0             1600     3         329900\n",
              "1             2400     3         369000\n",
              "2             1416     2         232000\n",
              "3             3000     4         539900\n",
              "4             1985     4         299900"
            ]
          },
          "metadata": {
            "tags": []
          },
          "execution_count": 100
        }
      ]
    },
    {
      "cell_type": "markdown",
      "metadata": {
        "id": "l6iCjHnqo0eV",
        "colab_type": "text"
      },
      "source": [
        "# LIBRARIES FOR MACHINE LEARNING"
      ]
    },
    {
      "cell_type": "code",
      "metadata": {
        "id": "q7AmzJ0PSywq",
        "colab_type": "code",
        "colab": {}
      },
      "source": [
        "from sklearn.linear_model import LinearRegression\n",
        "from sklearn.model_selection import train_test_split\n",
        "from sklearn.metrics import mean_squared_error"
      ],
      "execution_count": 0,
      "outputs": []
    },
    {
      "cell_type": "markdown",
      "metadata": {
        "id": "vL7Fj35coWUZ",
        "colab_type": "text"
      },
      "source": [
        "# DATA PRE-PROCESSING"
      ]
    },
    {
      "cell_type": "code",
      "metadata": {
        "id": "_Tt9R7kJsxwg",
        "colab_type": "code",
        "colab": {}
      },
      "source": [
        "# split dataset in training part and test part\n",
        "# if train_size and test_size are not defined,the train_size=0.75 and test_size=0.25\n",
        "X_train, X_test, y_train, y_test = train_test_split(np_IN_X,np_IN_y,test_size=0.25)\n",
        "\n",
        "\n",
        "#con più features conviene che queste siano comprese \n",
        "#in un range di valori comune, per far questo abbiamo due possibilità:\n",
        "#Normalizzazione: portiamo tutti i dati in un range compreso tra 0 e 1\n",
        "#Standardizzazione: convertiamo i dati in una distribuzione normale \n",
        "#con media 0 e deviazione standard 1.\n",
        "\n",
        "#stardadize\n",
        "from sklearn.preprocessing import StandardScaler\n",
        "ss = StandardScaler()\n",
        "X_train_ss = ss.fit_transform(X_train)\n",
        "X_test_ss = ss.transform(X_test)\n",
        "X_all=ss.transform(np_IN_X)\n"
      ],
      "execution_count": 0,
      "outputs": []
    },
    {
      "cell_type": "markdown",
      "metadata": {
        "id": "LPrLAQjmYzQ-",
        "colab_type": "text"
      },
      "source": [
        "# TRAINING PHASE"
      ]
    },
    {
      "cell_type": "code",
      "metadata": {
        "id": "aaWTSTJvTc-1",
        "colab_type": "code",
        "colab": {
          "base_uri": "https://localhost:8080/",
          "height": 52
        },
        "outputId": "05d61d57-3d1f-4d5e-d864-d83fa5f2c732"
      },
      "source": [
        "\n",
        "#train the linear regressor\n",
        "linear_reg = LinearRegression().fit(X_train_ss, y_train)\n",
        "\n",
        "print ('Coefficienti stiamati: ',linear_reg.coef_)\n",
        "print ('Intercept: ',linear_reg.intercept_)"
      ],
      "execution_count": 104,
      "outputs": [
        {
          "output_type": "stream",
          "text": [
            "Coefficienti stiamati:  [136161.36819136  41422.20895612]\n",
            "Intercept:  271827.6923076923\n"
          ],
          "name": "stdout"
        }
      ]
    },
    {
      "cell_type": "markdown",
      "metadata": {
        "id": "U2QU6C4XYg4u",
        "colab_type": "text"
      },
      "source": [
        "# TEST PHASE"
      ]
    },
    {
      "cell_type": "code",
      "metadata": {
        "id": "BIPj-4mXTvAy",
        "colab_type": "code",
        "colab": {}
      },
      "source": [
        "#y_pred_dataset is a linear prediction of X_dataset\n",
        "y_pred_test=linear_reg.predict(X_test_ss)\n",
        "y_pred_train=linear_reg.predict(X_train_ss)\n",
        "y_pred_all=linear_reg.predict(X_all)"
      ],
      "execution_count": 0,
      "outputs": []
    },
    {
      "cell_type": "markdown",
      "metadata": {
        "id": "ruF_8xSgT8Cq",
        "colab_type": "text"
      },
      "source": [
        "**Compute metrics evaluation and plot results**"
      ]
    },
    {
      "cell_type": "code",
      "metadata": {
        "id": "igwyBCLbtyOU",
        "colab_type": "code",
        "colab": {
          "base_uri": "https://localhost:8080/",
          "height": 155
        },
        "outputId": "cbbe36fc-fd74-445a-f279-e9cf1e598759"
      },
      "source": [
        "R2_test=linear_reg.score(X_test_ss,y_test)\n",
        "MSE_test = mean_squared_error( y_test,y_pred_test)\n",
        "R2_train=linear_reg.score(X_train_ss,y_train)\n",
        "MSE_train = mean_squared_error(y_train,y_pred_train)\n",
        "print ('TEST\\nR^2=',R2_test,'\\nMSE= %f \\n' % MSE_test)\n",
        "print ('TRAIN\\nR^2=',R2_train,'\\nMSE= %f \\n' % MSE_train)"
      ],
      "execution_count": 106,
      "outputs": [
        {
          "output_type": "stream",
          "text": [
            "TEST\n",
            "R^2= 0.720189101819543 \n",
            "MSE= 1215200635.729930 \n",
            "\n",
            "TRAIN\n",
            "R^2= 0.8113166675752361 \n",
            "MSE= 2805502349.579242 \n",
            "\n"
          ],
          "name": "stdout"
        }
      ]
    },
    {
      "cell_type": "markdown",
      "metadata": {
        "id": "nCZjN7jH2c-o",
        "colab_type": "text"
      },
      "source": [
        "**SCALE BACK**"
      ]
    },
    {
      "cell_type": "code",
      "metadata": {
        "id": "FIiO8XYvx2ZV",
        "colab_type": "code",
        "colab": {}
      },
      "source": [
        "#inverse_trasform->Scale back the data to the original representation\n",
        "X_train_new=ss.inverse_transform(X_train_ss)\n",
        "X_test_new=ss.inverse_transform(X_test_ss)\n",
        "np_IN_X_new=ss.inverse_transform(X_all)"
      ],
      "execution_count": 0,
      "outputs": []
    },
    {
      "cell_type": "markdown",
      "metadata": {
        "id": "VEHkP7xhYX7-",
        "colab_type": "text"
      },
      "source": [
        "# PLOT RESULTS"
      ]
    },
    {
      "cell_type": "code",
      "metadata": {
        "id": "y9X0Uj2-dY6W",
        "colab_type": "code",
        "outputId": "fb13a04b-b1a4-45b6-cc28-4a26fef48fbc",
        "colab": {
          "base_uri": "https://localhost:8080/",
          "height": 317
        }
      },
      "source": [
        "def h (theta, X) :\n",
        "  tempX = np.ones((X.shape[0], X.shape[1] + 1))\n",
        "  tempX[:,1:] = X\n",
        "  return np.matmul(tempX, theta)\n",
        "\n",
        "print('Dimensione features vectors',X_test_ss.shape,'\\nDimensione output',y_test.shape)\n",
        "\n",
        "fig = plt.figure() \n",
        "axs = fig.add_subplot(111, projection='3d') \n",
        "\n",
        "axs.locator_params(axis='z', nbins=4)\n",
        "axs.set_xlabel('sup [mq]')\n",
        "axs.set_ylabel('rooms [num]')\n",
        "axs.set_zlabel('price [euro]')\n",
        "#axs.scatter(X_test_new[:,0],X_test_new[:,1],y_test)\n",
        "#axs.scatter(X_train_new[:,0],X_train_new[:,1],y_train,color='red')\n",
        "#axs.scatter(np_IN_X_new[:,0],np_IN_X_new[:,1],y_pred_all,color='green')\n",
        "\n",
        "\n",
        "x = y = np.arange(0, 0.3, 0.05)\n",
        "xp, yp = np.meshgrid(x, y)\n",
        "print(np.ravel(xp).shape)\n",
        "z = np.array([h(s_theta, np.array([[x,y]]))[0, 0] for x,y in zip(np.ravel(xp), np.ravel(yp))])\n",
        "zp = z.reshape(xp.shape)\n",
        "\n",
        "axs.scatter(X_test_new[:,0],X_test_new[:,1],y_test)\n",
        "axs.plot_surface(xp, yp, zp, alpha=0.7)\n",
        "#fig.show()"
      ],
      "execution_count": 119,
      "outputs": [
        {
          "output_type": "stream",
          "text": [
            "Dimensione features vectors (26, 2) \n",
            "Dimensione output (26,)\n",
            "(36,)\n"
          ],
          "name": "stdout"
        },
        {
          "output_type": "execute_result",
          "data": {
            "text/plain": [
              "<mpl_toolkits.mplot3d.art3d.Poly3DCollection at 0x7fcf11265160>"
            ]
          },
          "metadata": {
            "tags": []
          },
          "execution_count": 119
        },
        {
          "output_type": "display_data",
          "data": {
            "image/png": "[encoded data removed]",
            "text/plain": [
              "<Figure size 432x288 with 1 Axes>"
            ]
          },
          "metadata": {
            "tags": []
          }
        }
      ]
    },
    {
      "cell_type": "code",
      "metadata": {
        "id": "9KImXzrpon7f",
        "colab_type": "code",
        "colab": {}
      },
      "source": [
        ""
      ],
      "execution_count": 0,
      "outputs": []
    }
  ]
}