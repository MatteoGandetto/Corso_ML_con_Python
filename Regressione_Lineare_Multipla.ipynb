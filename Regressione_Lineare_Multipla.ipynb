{
  "nbformat": 4,
  "nbformat_minor": 0,
  "metadata": {
    "colab": {
      "name": "Regressione Lineare Multipla.ipynb",
      "provenance": [],
      "collapsed_sections": [],
      "authorship_tag": "ABX9TyNwRcmrT3cxtFyQx6nlMcc0",
      "include_colab_link": true
    },
    "kernelspec": {
      "name": "python3",
      "display_name": "Python 3"
    }
  },
  "cells": [
    {
      "cell_type": "markdown",
      "metadata": {
        "id": "view-in-github",
        "colab_type": "text"
      },
      "source": [
        "<a href=\"https://colab.research.google.com/github/MatteoGandetto/Corso_Python_new/blob/master/Regressione_Lineare_Multipla.ipynb\" target=\"_parent\"><img src=\"https://colab.research.google.com/assets/colab-badge.svg\" alt=\"Open In Colab\"/></a>"
      ]
    },
    {
      "cell_type": "markdown",
      "metadata": {
        "id": "nNbhljgJ88Hv",
        "colab_type": "text"
      },
      "source": [
        "**Mounting Google Drive in Runtime Machine**"
      ]
    },
    {
      "cell_type": "code",
      "metadata": {
        "id": "6Iz1I9JZ89XS",
        "colab_type": "code",
        "colab": {}
      },
      "source": [
        "from google.colab import drive\n",
        "drive.mount('/content/drive')"
      ],
      "execution_count": 0,
      "outputs": []
    },
    {
      "cell_type": "markdown",
      "metadata": {
        "id": "fqLpY3uf9jTc",
        "colab_type": "text"
      },
      "source": [
        "\n",
        "\n",
        "---\n",
        "\n",
        "\n",
        "\n",
        "---\n",
        "\n",
        "\n",
        "**Install Libraries**"
      ]
    },
    {
      "cell_type": "code",
      "metadata": {
        "id": "S417_s5XPFUE",
        "colab_type": "code",
        "colab": {
          "base_uri": "https://localhost:8080/",
          "height": 245
        },
        "outputId": "9f9f0573-df6e-4a1b-88c5-38a831a48fea"
      },
      "source": [
        "!pip install --upgrade -q gspread\n",
        "!pip install gspread-dataframe"
      ],
      "execution_count": 6,
      "outputs": [
        {
          "output_type": "stream",
          "text": [
            "Requirement already satisfied: gspread-dataframe in /usr/local/lib/python3.6/dist-packages (3.0.4)\n",
            "Requirement already satisfied: pandas>=0.14.0 in /usr/local/lib/python3.6/dist-packages (from gspread-dataframe) (0.25.3)\n",
            "Requirement already satisfied: gspread>=3.0.0 in /usr/local/lib/python3.6/dist-packages (from gspread-dataframe) (3.3.0)\n",
            "Requirement already satisfied: numpy>=1.13.3 in /usr/local/lib/python3.6/dist-packages (from pandas>=0.14.0->gspread-dataframe) (1.18.1)\n",
            "Requirement already satisfied: python-dateutil>=2.6.1 in /usr/local/lib/python3.6/dist-packages (from pandas>=0.14.0->gspread-dataframe) (2.8.1)\n",
            "Requirement already satisfied: pytz>=2017.2 in /usr/local/lib/python3.6/dist-packages (from pandas>=0.14.0->gspread-dataframe) (2018.9)\n",
            "Requirement already satisfied: requests>=2.2.1 in /usr/local/lib/python3.6/dist-packages (from gspread>=3.0.0->gspread-dataframe) (2.21.0)\n",
            "Requirement already satisfied: six>=1.5 in /usr/local/lib/python3.6/dist-packages (from python-dateutil>=2.6.1->pandas>=0.14.0->gspread-dataframe) (1.12.0)\n",
            "Requirement already satisfied: urllib3<1.25,>=1.21.1 in /usr/local/lib/python3.6/dist-packages (from requests>=2.2.1->gspread>=3.0.0->gspread-dataframe) (1.24.3)\n",
            "Requirement already satisfied: certifi>=2017.4.17 in /usr/local/lib/python3.6/dist-packages (from requests>=2.2.1->gspread>=3.0.0->gspread-dataframe) (2019.11.28)\n",
            "Requirement already satisfied: chardet<3.1.0,>=3.0.2 in /usr/local/lib/python3.6/dist-packages (from requests>=2.2.1->gspread>=3.0.0->gspread-dataframe) (3.0.4)\n",
            "Requirement already satisfied: idna<2.9,>=2.5 in /usr/local/lib/python3.6/dist-packages (from requests>=2.2.1->gspread>=3.0.0->gspread-dataframe) (2.8)\n"
          ],
          "name": "stdout"
        }
      ]
    },
    {
      "cell_type": "markdown",
      "metadata": {
        "id": "QQuPWruMPeGu",
        "colab_type": "text"
      },
      "source": [
        "\n",
        "\n",
        "---\n",
        "---\n",
        "\n",
        "\n",
        "**Import Libraries**"
      ]
    },
    {
      "cell_type": "code",
      "metadata": {
        "id": "fCPH_BJmdYE3",
        "colab_type": "code",
        "colab": {}
      },
      "source": [
        "# package for scientific computing\n",
        "import numpy as np\n",
        "\n",
        "#collection of command style functions that make matplotlib work like MATLAB\n",
        "import matplotlib.pyplot as plt \n",
        "\n",
        "#data analysis and manipulation tool\n",
        "import pandas as pd \n",
        "\n",
        "#Python API for Google Sheets\n",
        "import gspread\n",
        "from gspread_dataframe import get_as_dataframe, set_with_dataframe"
      ],
      "execution_count": 0,
      "outputs": []
    },
    {
      "cell_type": "code",
      "metadata": {
        "id": "ckrXqnoaSi0O",
        "colab_type": "code",
        "colab": {}
      },
      "source": [
        "from google.colab import auth\n",
        "auth.authenticate_user()\n",
        "from oauth2client.client import GoogleCredentials\n",
        "gs=gspread.authorize(GoogleCredentials.get_application_default())"
      ],
      "execution_count": 0,
      "outputs": []
    },
    {
      "cell_type": "markdown",
      "metadata": {
        "id": "8bCKPI2M9qEy",
        "colab_type": "text"
      },
      "source": [
        "\n",
        "\n",
        "---\n",
        "---\n",
        "**Load GoogleSheet data into a dataFrame and plot them**"
      ]
    },
    {
      "cell_type": "code",
      "metadata": {
        "id": "4uQjeFNJ2--r",
        "colab_type": "code",
        "outputId": "e5e11236-d2c4-490b-89e9-883dc990b1db",
        "colab": {
          "base_uri": "https://localhost:8080/",
          "height": 1000
        }
      },
      "source": [
        "FILE_NAME='Regressione_Lineare_Multipla_IN'\n",
        "wks=gs.open(FILE_NAME).sheet1\n",
        "INPUT_df=get_as_dataframe(wks)\n",
        "\n",
        "#remove all NaN\n",
        "INPUT_df=INPUT_df.dropna(1,'all')\n",
        "INPUT_df=INPUT_df.dropna(0,'all')\n",
        "\n",
        "#convert to NumPy array\n",
        "np_IN=np.array(INPUT_df)\n",
        "np_IN_X=np_IN[:,0:2]\n",
        "np_IN_Y=np_IN[:,2]\n",
        "print('dim',np_IN_X.size,'\\n',np_IN_X,'\\ndim',np_IN_Y.size,'\\n',np_IN_Y)\n"
      ],
      "execution_count": 24,
      "outputs": [
        {
          "output_type": "stream",
          "text": [
            "dim 208 \n",
            " [[ 60.   3.]\n",
            " [ 70.   4.]\n",
            " [140.   9.]\n",
            " [150.   9.]\n",
            " [ 79.   4.]\n",
            " [ 85.   5.]\n",
            " [ 55.   4.]\n",
            " [150.   9.]\n",
            " [ 90.   6.]\n",
            " [100.   5.]\n",
            " [110.   7.]\n",
            " [125.   8.]\n",
            " [126.   7.]\n",
            " [135.   8.]\n",
            " [140.   9.]\n",
            " [123.   8.]\n",
            " [146.   8.]\n",
            " [124.   7.]\n",
            " [ 89.   5.]\n",
            " [ 90.   5.]\n",
            " [ 91.   6.]\n",
            " [ 92.   5.]\n",
            " [ 93.   6.]\n",
            " [ 94.   6.]\n",
            " [ 95.   5.]\n",
            " [ 97.   5.]\n",
            " [ 99.   7.]\n",
            " [100.   6.]\n",
            " [ 93.   6.]\n",
            " [101.   5.]\n",
            " [102.   6.]\n",
            " [103.   6.]\n",
            " [104.   5.]\n",
            " [105.   6.]\n",
            " [106.   6.]\n",
            " [107.   6.]\n",
            " [108.   5.]\n",
            " [109.   7.]\n",
            " [110.   7.]\n",
            " [111.   6.]\n",
            " [112.   7.]\n",
            " [113.   5.]\n",
            " [114.   6.]\n",
            " [115.   6.]\n",
            " [116.   7.]\n",
            " [117.   6.]\n",
            " [118.   7.]\n",
            " [119.   7.]\n",
            " [120.   7.]\n",
            " [121.   6.]\n",
            " [122.   7.]\n",
            " [123.   7.]\n",
            " [124.   6.]\n",
            " [125.   7.]\n",
            " [126.   6.]\n",
            " [127.   7.]\n",
            " [128.   6.]\n",
            " [129.   6.]\n",
            " [130.   7.]\n",
            " [131.   8.]\n",
            " [132.   7.]\n",
            " [133.   7.]\n",
            " [134.   6.]\n",
            " [135.   7.]\n",
            " [136.   8.]\n",
            " [137.   7.]\n",
            " [138.   7.]\n",
            " [139.   8.]\n",
            " [140.   7.]\n",
            " [141.   9.]\n",
            " [142.   8.]\n",
            " [143.   7.]\n",
            " [144.   7.]\n",
            " [145.   8.]\n",
            " [146.   9.]\n",
            " [147.   9.]\n",
            " [148.   7.]\n",
            " [149.   8.]\n",
            " [150.   9.]\n",
            " [151.   8.]\n",
            " [152.   9.]\n",
            " [153.   9.]\n",
            " [154.   8.]\n",
            " [155.   7.]\n",
            " [156.   8.]\n",
            " [157.   8.]\n",
            " [158.   9.]\n",
            " [159.   8.]\n",
            " [160.   8.]\n",
            " [161.   9.]\n",
            " [162.   8.]\n",
            " [163.   8.]\n",
            " [164.  10.]\n",
            " [165.  10.]\n",
            " [166.   9.]\n",
            " [167.  10.]\n",
            " [168.  10.]\n",
            " [169.  10.]\n",
            " [170.   9.]\n",
            " [171.   9.]\n",
            " [172.   9.]\n",
            " [173.   9.]\n",
            " [174.  10.]\n",
            " [175.   9.]] \n",
            "dim 104 \n",
            " [120000. 135000. 165000. 150000. 110000. 123000.  80000. 170000. 100000.\n",
            " 125000. 150000. 150000. 170000. 175000. 165000. 100000. 150000. 159000.\n",
            " 172000. 158000. 114000. 105000. 192000. 115000. 169934. 166888. 131819.\n",
            " 125623. 151616. 135979. 129709. 180247. 122892. 112631. 135298. 187699.\n",
            " 173399. 117707. 130186. 183829. 190004. 128028. 122593. 150526. 180638.\n",
            " 144826. 199657. 201051. 122444. 129511. 162951. 174077. 154789. 163677.\n",
            " 172553. 129660. 198969. 150845. 185101. 212988. 229792. 184591. 152390.\n",
            " 146196. 208255. 188345. 144478. 191269. 154066. 201964. 221207. 149317.\n",
            " 164030. 160822. 150843. 223470. 162721. 232788. 191416. 196543. 234094.\n",
            " 160191. 182888. 239197. 210517. 226261. 246386. 169482. 189164. 228492.\n",
            " 250539. 230440. 204779. 195018. 184331. 238906. 212546. 224298. 170916.\n",
            " 185653. 225119. 263299. 267461. 234732.]\n"
          ],
          "name": "stdout"
        }
      ]
    },
    {
      "cell_type": "markdown",
      "metadata": {
        "id": "fT-YCjPndSZG",
        "colab_type": "text"
      },
      "source": [
        "\n",
        "\n",
        "---\n",
        "\n",
        "---\n",
        "\n",
        "Machine Learning\n",
        "\n",
        "**ALGORITMO DI REGRESSIONE LINEARE MULTIPLA**\n",
        "\n"
      ]
    },
    {
      "cell_type": "code",
      "metadata": {
        "id": "y9X0Uj2-dY6W",
        "colab_type": "code",
        "outputId": "d88c093b-eff7-4aaf-bc9c-c6c5666e86a6",
        "colab": {
          "base_uri": "https://localhost:8080/",
          "height": 1000
        }
      },
      "source": [
        "from sklearn.linear_model import LinearRegression\n",
        "from sklearn.model_selection import train_test_split\n",
        "from sklearn.metrics import mean_squared_error\n",
        "\n",
        "#split dataset in training part and test part\n",
        "# if train_size and test_size are not defined,the train_size=0.75 and test_size=0.25\n",
        "X_train, X_test, y_train, y_test = train_test_split(np_IN_X,np_IN_Y,test_size=0.25)\n",
        "print('dim TRAIN',X_train.size,'\\n',X_train,'\\ndim TEST',X_test.size,'\\n',X_test)\n",
        "\n",
        "#reshape features to be used with LinearRegression's methods\n",
        "#X_train_r=np.reshape(X_train,(-1, 1))\n",
        "#X_test_r=np.reshape(X_test,(-1, 1))\n",
        "#print('dim TRAIN_r',X_train_r.size,'\\n',X_train_r,'\\ndim TEST_r',X_test_r.size,'\\n',X_test_r)\n",
        "\n",
        "#train the linear regressor\n",
        "reg = LinearRegression().fit(X_train, y_train)\n",
        "\n",
        "#y_pred is a linear prediction of X_test\n",
        "y_pred_test=reg.predict(X_test)\n",
        "y_pred_train=reg.predict(X_train)\n",
        "\n",
        "#evaluate the model by using R=1-RSE and MSE\n",
        "R2=reg.score(X_test,y_test)\n",
        "MSE = mean_squared_error( y_test,y_pred_test)\n",
        "R2_train=reg.score(X_train,y_train)\n",
        "MSE_train = mean_squared_error(y_train,y_pred_train)\n",
        "print ('TEST\\nR^2=',R2,'\\nMSE= %f \\n' % MSE)\n",
        "print ('TRAIN\\nR^2=',R2_train,'\\nMSE= %f \\n' % MSE_train)\n"
      ],
      "execution_count": 29,
      "outputs": [
        {
          "output_type": "stream",
          "text": [
            "dim TRAIN 156 \n",
            " [[118.   7.]\n",
            " [150.   9.]\n",
            " [170.   9.]\n",
            " [146.   9.]\n",
            " [149.   8.]\n",
            " [168.  10.]\n",
            " [137.   7.]\n",
            " [136.   8.]\n",
            " [107.   6.]\n",
            " [ 90.   6.]\n",
            " [ 93.   6.]\n",
            " [152.   9.]\n",
            " [117.   6.]\n",
            " [130.   7.]\n",
            " [119.   7.]\n",
            " [108.   5.]\n",
            " [ 55.   4.]\n",
            " [135.   8.]\n",
            " [ 99.   7.]\n",
            " [157.   8.]\n",
            " [105.   6.]\n",
            " [ 91.   6.]\n",
            " [ 90.   5.]\n",
            " [163.   8.]\n",
            " [ 60.   3.]\n",
            " [140.   9.]\n",
            " [164.  10.]\n",
            " [121.   6.]\n",
            " [160.   8.]\n",
            " [122.   7.]\n",
            " [167.  10.]\n",
            " [100.   5.]\n",
            " [102.   6.]\n",
            " [150.   9.]\n",
            " [144.   7.]\n",
            " [104.   5.]\n",
            " [166.   9.]\n",
            " [150.   9.]\n",
            " [153.   9.]\n",
            " [116.   7.]\n",
            " [126.   7.]\n",
            " [ 95.   5.]\n",
            " [120.   7.]\n",
            " [114.   6.]\n",
            " [174.  10.]\n",
            " [106.   6.]\n",
            " [124.   6.]\n",
            " [147.   9.]\n",
            " [111.   6.]\n",
            " [126.   6.]\n",
            " [173.   9.]\n",
            " [145.   8.]\n",
            " [154.   8.]\n",
            " [125.   7.]\n",
            " [131.   8.]\n",
            " [158.   9.]\n",
            " [100.   6.]\n",
            " [140.   9.]\n",
            " [161.   9.]\n",
            " [113.   5.]\n",
            " [125.   8.]\n",
            " [112.   7.]\n",
            " [146.   8.]\n",
            " [132.   7.]\n",
            " [133.   7.]\n",
            " [138.   7.]\n",
            " [127.   7.]\n",
            " [155.   7.]\n",
            " [ 79.   4.]\n",
            " [139.   8.]\n",
            " [ 97.   5.]\n",
            " [172.   9.]\n",
            " [159.   8.]\n",
            " [ 70.   4.]\n",
            " [ 92.   5.]\n",
            " [169.  10.]\n",
            " [110.   7.]\n",
            " [165.  10.]] \n",
            "dim TEST 52 \n",
            " [[109.   7.]\n",
            " [156.   8.]\n",
            " [134.   6.]\n",
            " [148.   7.]\n",
            " [ 94.   6.]\n",
            " [128.   6.]\n",
            " [115.   6.]\n",
            " [110.   7.]\n",
            " [123.   8.]\n",
            " [142.   8.]\n",
            " [140.   7.]\n",
            " [129.   6.]\n",
            " [ 85.   5.]\n",
            " [124.   7.]\n",
            " [171.   9.]\n",
            " [ 93.   6.]\n",
            " [123.   7.]\n",
            " [162.   8.]\n",
            " [103.   6.]\n",
            " [ 89.   5.]\n",
            " [135.   7.]\n",
            " [143.   7.]\n",
            " [101.   5.]\n",
            " [141.   9.]\n",
            " [151.   8.]\n",
            " [175.   9.]]\n",
            "TEST\n",
            "R^2= 0.420251235249278 \n",
            "MSE= 801773540.896481 \n",
            "\n",
            "TRAIN\n",
            "R^2= 0.5281141494492099 \n",
            "MSE= 794954157.917252 \n",
            "\n"
          ],
          "name": "stdout"
        }
      ]
    },
    {
      "cell_type": "code",
      "metadata": {
        "id": "dVCNmdtQCtzR",
        "colab_type": "code",
        "colab": {}
      },
      "source": [
        "#show the solution\n",
        "fig, axs = plt.subplots(2,1)\n",
        "\n",
        "pos0=axs[0].get_position()\n",
        "pos0_new=[pos0.x0,pos0.y0+0.2,pos0.width,pos0.height]\n",
        "axs[0].set_position(pos0_new)\n",
        "axs[0].set_xlabel('sup [mq]')\n",
        "axs[0].set_ylabel('price [euro]')\n",
        "axs[0].set_title('TEST')\n",
        "axs[0].scatter(X_test,y_test)\n",
        "axs[0].plot(X_test,y_pred_test,c='red',linewidth=3)\n",
        "\n",
        "axs[1].set_title('TRAIN')\n",
        "axs[1].set_xlabel('sup [mq]')\n",
        "axs[1].set_ylabel('price [euro]')\n",
        "axs[1].scatter(X_train,y_train)\n",
        "axs[1].plot(X_train,y_pred_train,c='red',linewidth=3)"
      ],
      "execution_count": 0,
      "outputs": []
    }
  ]
}