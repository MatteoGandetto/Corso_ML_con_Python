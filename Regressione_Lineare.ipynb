{
  "nbformat": 4,
  "nbformat_minor": 0,
  "metadata": {
    "colab": {
      "name": "Regressione Lineare.ipynb",
      "provenance": [],
      "toc_visible": true,
      "authorship_tag": "ABX9TyMcEU/OD7cE8himbV9J9Ak1",
      "include_colab_link": true
    },
    "kernelspec": {
      "name": "python3",
      "display_name": "Python 3"
    }
  },
  "cells": [
    {
      "cell_type": "markdown",
      "metadata": {
        "id": "view-in-github",
        "colab_type": "text"
      },
      "source": [
        "<a href=\"https://colab.research.google.com/github/MatteoGandetto/Corso_Python_new/blob/master/Regressione_Lineare.ipynb\" target=\"_parent\"><img src=\"https://colab.research.google.com/assets/colab-badge.svg\" alt=\"Open In Colab\"/></a>"
      ]
    },
    {
      "cell_type": "markdown",
      "metadata": {
        "id": "nNbhljgJ88Hv",
        "colab_type": "text"
      },
      "source": [
        "**Mounting Google Drive in Runtime Machine**"
      ]
    },
    {
      "cell_type": "code",
      "metadata": {
        "id": "6Iz1I9JZ89XS",
        "colab_type": "code",
        "colab": {}
      },
      "source": [
        "from google.colab import drive\n",
        "drive.mount('/content/drive')"
      ],
      "execution_count": 0,
      "outputs": []
    },
    {
      "cell_type": "markdown",
      "metadata": {
        "id": "fqLpY3uf9jTc",
        "colab_type": "text"
      },
      "source": [
        "\n",
        "\n",
        "---\n",
        "\n",
        "\n",
        "\n",
        "---\n",
        "\n",
        "\n",
        "**Install Libraries**"
      ]
    },
    {
      "cell_type": "code",
      "metadata": {
        "id": "S417_s5XPFUE",
        "colab_type": "code",
        "colab": {}
      },
      "source": [
        "!pip install --upgrade -q gspread\n",
        "!pip install gspread-dataframe"
      ],
      "execution_count": 0,
      "outputs": []
    },
    {
      "cell_type": "markdown",
      "metadata": {
        "id": "QQuPWruMPeGu",
        "colab_type": "text"
      },
      "source": [
        "\n",
        "\n",
        "---\n",
        "---\n",
        "\n",
        "\n",
        "**Import Libraries**"
      ]
    },
    {
      "cell_type": "code",
      "metadata": {
        "id": "fCPH_BJmdYE3",
        "colab_type": "code",
        "colab": {}
      },
      "source": [
        "# package for scientific computing\n",
        "import numpy as np\n",
        "\n",
        "#collection of command style functions that make matplotlib work like MATLAB\n",
        "import matplotlib.pyplot as plt \n",
        "\n",
        "#data analysis and manipulation tool\n",
        "import pandas as pd \n",
        "\n",
        "#Python API for Google Sheets\n",
        "import gspread\n",
        "from gspread_dataframe import get_as_dataframe, set_with_dataframe"
      ],
      "execution_count": 0,
      "outputs": []
    },
    {
      "cell_type": "code",
      "metadata": {
        "id": "ckrXqnoaSi0O",
        "colab_type": "code",
        "colab": {}
      },
      "source": [
        "from google.colab import auth\n",
        "auth.authenticate_user()\n",
        "from oauth2client.client import GoogleCredentials\n",
        "gs=gspread.authorize(GoogleCredentials.get_application_default())"
      ],
      "execution_count": 0,
      "outputs": []
    },
    {
      "cell_type": "markdown",
      "metadata": {
        "id": "8bCKPI2M9qEy",
        "colab_type": "text"
      },
      "source": [
        "\n",
        "\n",
        "---\n",
        "---\n",
        "**Load GoogleSheet data into a dataFrame and plot them**"
      ]
    },
    {
      "cell_type": "code",
      "metadata": {
        "id": "4uQjeFNJ2--r",
        "colab_type": "code",
        "colab": {
          "base_uri": "https://localhost:8080/",
          "height": 410
        },
        "outputId": "883313ab-2f10-4689-d9a0-0f09af7ed91c"
      },
      "source": [
        "FILE_NAME='Regressione_IN'\n",
        "wks=gs.open(FILE_NAME).sheet1\n",
        "INPUT_df=get_as_dataframe(wks)\n",
        "\n",
        "#remove all NaN\n",
        "INPUT_df=INPUT_df.dropna(1,'all')\n",
        "INPUT_df=INPUT_df.dropna(0,'all')\n",
        "\n",
        "#convert to NumPy array\n",
        "np_IN=np.array(INPUT_df)\n",
        "np_IN_X=np_IN[:,0]\n",
        "np_IN_Y=np_IN[:,1]\n",
        "\n",
        "#plot data\n",
        "fig, axs = plt.subplots(1,2)\n",
        "axs[0].scatter(np_IN_X, np_IN_Y)\n",
        "axs[1].boxplot(np_IN_X)\n"
      ],
      "execution_count": 49,
      "outputs": [
        {
          "output_type": "execute_result",
          "data": {
            "text/plain": [
              "{'boxes': [<matplotlib.lines.Line2D at 0x7f4240422240>],\n",
              " 'caps': [<matplotlib.lines.Line2D at 0x7f42408722b0>,\n",
              "  <matplotlib.lines.Line2D at 0x7f4240872e80>],\n",
              " 'fliers': [<matplotlib.lines.Line2D at 0x7f4240872a90>],\n",
              " 'means': [],\n",
              " 'medians': [<matplotlib.lines.Line2D at 0x7f4240872780>],\n",
              " 'whiskers': [<matplotlib.lines.Line2D at 0x7f4240422198>,\n",
              "  <matplotlib.lines.Line2D at 0x7f4240422400>]}"
            ]
          },
          "metadata": {
            "tags": []
          },
          "execution_count": 49
        },
        {
          "output_type": "display_data",
          "data": {
            "image/png": "[encoded data removed]",
            "text/plain": [
              "<Figure size 432x288 with 2 Axes>"
            ]
          },
          "metadata": {
            "tags": []
          }
        }
      ]
    },
    {
      "cell_type": "markdown",
      "metadata": {
        "id": "fT-YCjPndSZG",
        "colab_type": "text"
      },
      "source": [
        "\n",
        "\n",
        "---\n",
        "\n",
        "---\n",
        "\n",
        "Machine Learning\n",
        "**ALGORITMO DI REGRESSIONE LINEARE**\n",
        "\n"
      ]
    },
    {
      "cell_type": "code",
      "metadata": {
        "id": "y9X0Uj2-dY6W",
        "colab_type": "code",
        "colab": {
          "base_uri": "https://localhost:8080/",
          "height": 282
        },
        "outputId": "a7889a9d-10b2-4ef7-fd96-323cb8e4b64f"
      },
      "source": [
        "from sklearn.linear_model import LinearRegression\n",
        "from sklearn.model_selection import train_test_split\n",
        "\n",
        "#split dataset in training part and test part\n",
        "# if train_size and test_size are not defined,the train_size=0.75 and test_size=0.25\n",
        "X_train, X_test, y_train, y_test = train_test_split(np_IN_X,np_IN_Y)\n",
        "\n",
        "#reshape features to be used with LinearRegression's methods\n",
        "X_train_r=np.reshape(X_train,(-1, 1))\n",
        "X_test_r=np.reshape(X_test,(-1, 1))\n",
        "\n",
        "#train the linear regressor\n",
        "reg = LinearRegression().fit(X_train_r, y_train)\n",
        "\n",
        "#y_pred is a linear prediction of X_test\n",
        "y_pred=reg.predict(X_test_r)\n",
        "\n",
        "#evaluate the model by using R=1-RSE\n",
        "score=reg.score(X_test_r,y_test)\n",
        "print (score)\n",
        "\n",
        "#show the solution\n",
        "plt.scatter(y_test,y_pred)\n",
        "plt.plot(y_pred,y_pred,color='green')\n",
        "plt.show()"
      ],
      "execution_count": 51,
      "outputs": [
        {
          "output_type": "stream",
          "text": [
            "0.5722590531843716\n"
          ],
          "name": "stdout"
        },
        {
          "output_type": "display_data",
          "data": {
            "image/png": "[encoded data removed]",
            "text/plain": [
              "<Figure size 432x288 with 1 Axes>"
            ]
          },
          "metadata": {
            "tags": []
          }
        }
      ]
    }
  ]
}