{
  "nbformat": 4,
  "nbformat_minor": 0,
  "metadata": {
    "colab": {
      "name": "Regressione Lineare Multipla.ipynb",
      "provenance": [],
      "collapsed_sections": [],
      "include_colab_link": true
    },
    "kernelspec": {
      "name": "python3",
      "display_name": "Python 3"
    }
  },
  "cells": [
    {
      "cell_type": "markdown",
      "metadata": {
        "id": "view-in-github",
        "colab_type": "text"
      },
      "source": [
        "<a href=\"https://colab.research.google.com/github/MatteoGandetto/Corso_ML_con_Python/blob/master/Regressione_Lineare_Multipla.ipynb\" target=\"_parent\"><img src=\"https://colab.research.google.com/assets/colab-badge.svg\" alt=\"Open In Colab\"/></a>"
      ]
    },
    {
      "cell_type": "markdown",
      "metadata": {
        "id": "QQuPWruMPeGu",
        "colab_type": "text"
      },
      "source": [
        "\n",
        "**Import Libraries**"
      ]
    },
    {
      "cell_type": "code",
      "metadata": {
        "id": "fCPH_BJmdYE3",
        "colab_type": "code",
        "colab": {}
      },
      "source": [
        "# package for scientific computing\n",
        "import numpy as np\n",
        "\n",
        "#collection of command style functions that make matplotlib work like MATLAB\n",
        "import matplotlib.pyplot as plt \n",
        "\n",
        "#data analysis and manipulation tool\n",
        "import pandas as pd "
      ],
      "execution_count": 0,
      "outputs": []
    },
    {
      "cell_type": "markdown",
      "metadata": {
        "id": "8bCKPI2M9qEy",
        "colab_type": "text"
      },
      "source": [
        "\n",
        "\n",
        "---\n",
        "---\n",
        "**Load data into a dataFrame and prepare them**"
      ]
    },
    {
      "cell_type": "code",
      "metadata": {
        "id": "4uQjeFNJ2--r",
        "colab_type": "code",
        "outputId": "d4c72dec-2f2f-4f88-f68c-e9552a757a26",
        "colab": {
          "base_uri": "https://localhost:8080/",
          "height": 233
        }
      },
      "source": [
        "\n",
        "path='https://raw.githubusercontent.com/MatteoGandetto/Corso_ML_con_Python/master/Regressione_Lineare_Multipla_IN.csv'\n",
        "INPUT_df=pd.read_csv(path)\n",
        "\n",
        "#remove all NaN\n",
        "# 0 -> rows\n",
        "# 1 -> columns\n",
        "INPUT_df=INPUT_df.dropna(1,'all')\n",
        "INPUT_df=INPUT_df.dropna(0,'all')\n",
        "\n",
        "#convert to NumPy array\n",
        "np_IN=np.array(INPUT_df)\n",
        "np_IN_X=np_IN[:,0:2]\n",
        "np_IN_y=np_IN[:,2]\n",
        "print('Dimensione features vectors',np_IN_X.shape,'\\nDimensione output',np_IN_y.shape)\n",
        "INPUT_df.head()\n"
      ],
      "execution_count": 3,
      "outputs": [
        {
          "output_type": "stream",
          "text": [
            "Dimensione features vectors (104, 2) \n",
            "Dimensione output (104,)\n"
          ],
          "name": "stdout"
        },
        {
          "output_type": "execute_result",
          "data": {
            "text/html": [
              "<div>\n",
              "<style scoped>\n",
              "    .dataframe tbody tr th:only-of-type {\n",
              "        vertical-align: middle;\n",
              "    }\n",
              "\n",
              "    .dataframe tbody tr th {\n",
              "        vertical-align: top;\n",
              "    }\n",
              "\n",
              "    .dataframe thead th {\n",
              "        text-align: right;\n",
              "    }\n",
              "</style>\n",
              "<table border=\"1\" class=\"dataframe\">\n",
              "  <thead>\n",
              "    <tr style=\"text-align: right;\">\n",
              "      <th></th>\n",
              "      <th>Superficie [mq]</th>\n",
              "      <th>Vani</th>\n",
              "      <th>Prezzo [euro]</th>\n",
              "    </tr>\n",
              "  </thead>\n",
              "  <tbody>\n",
              "    <tr>\n",
              "      <th>0</th>\n",
              "      <td>60</td>\n",
              "      <td>3</td>\n",
              "      <td>120000</td>\n",
              "    </tr>\n",
              "    <tr>\n",
              "      <th>1</th>\n",
              "      <td>70</td>\n",
              "      <td>4</td>\n",
              "      <td>135000</td>\n",
              "    </tr>\n",
              "    <tr>\n",
              "      <th>2</th>\n",
              "      <td>140</td>\n",
              "      <td>9</td>\n",
              "      <td>165000</td>\n",
              "    </tr>\n",
              "    <tr>\n",
              "      <th>3</th>\n",
              "      <td>150</td>\n",
              "      <td>9</td>\n",
              "      <td>150000</td>\n",
              "    </tr>\n",
              "    <tr>\n",
              "      <th>4</th>\n",
              "      <td>79</td>\n",
              "      <td>4</td>\n",
              "      <td>110000</td>\n",
              "    </tr>\n",
              "  </tbody>\n",
              "</table>\n",
              "</div>"
            ],
            "text/plain": [
              "   Superficie [mq]  Vani  Prezzo [euro]\n",
              "0               60     3         120000\n",
              "1               70     4         135000\n",
              "2              140     9         165000\n",
              "3              150     9         150000\n",
              "4               79     4         110000"
            ]
          },
          "metadata": {
            "tags": []
          },
          "execution_count": 3
        }
      ]
    },
    {
      "cell_type": "markdown",
      "metadata": {
        "id": "fT-YCjPndSZG",
        "colab_type": "text"
      },
      "source": [
        "\n",
        "\n",
        "---\n",
        "\n",
        "---\n",
        "\n",
        "Machine Learning\n",
        "**ALGORITMO DI REGRESSIONE LINEARE**\n",
        "\n"
      ]
    },
    {
      "cell_type": "markdown",
      "metadata": {
        "id": "y0Dg_JFDTFds",
        "colab_type": "text"
      },
      "source": [
        "Import Libraries"
      ]
    },
    {
      "cell_type": "code",
      "metadata": {
        "id": "q7AmzJ0PSywq",
        "colab_type": "code",
        "colab": {}
      },
      "source": [
        "from sklearn.linear_model import LinearRegression\n",
        "from sklearn.model_selection import train_test_split\n",
        "from sklearn.metrics import mean_squared_error"
      ],
      "execution_count": 0,
      "outputs": []
    },
    {
      "cell_type": "markdown",
      "metadata": {
        "id": "ksgI5tj2S6O8",
        "colab_type": "text"
      },
      "source": [
        "Dataset splitting \n",
        " "
      ]
    },
    {
      "cell_type": "code",
      "metadata": {
        "id": "XYvqt4pQS1EJ",
        "colab_type": "code",
        "colab": {}
      },
      "source": [
        "# split dataset in training part and test part\n",
        "# if train_size and test_size are not defined,the train_size=0.75 and test_size=0.25\n",
        "X_train, X_test, y_train, y_test = train_test_split(np_IN_X,np_IN_y,test_size=0.25)"
      ],
      "execution_count": 0,
      "outputs": []
    },
    {
      "cell_type": "code",
      "metadata": {
        "id": "_Tt9R7kJsxwg",
        "colab_type": "code",
        "colab": {}
      },
      "source": [
        "#con più features dobbiamo essere sicuri che queste siano comprese \n",
        "#in un range di valori comune, per far questo abbiamo due possibilità:\n",
        "#Normalizzazione: portiamo tutti i dati in un range compreso tra 0 e 1\n",
        "#Standardizzazione: convertiamo i dati in una distribuzione normale \n",
        "#con media 0 e deviazione standard 1.\n",
        "\n",
        "\n",
        "#stardadize\n",
        "from sklearn.preprocessing import StandardScaler\n",
        "ss = StandardScaler()\n",
        "X_train_ss = ss.fit_transform(X_train)\n",
        "X_test_ss = ss.transform(X_test)\n",
        "X_all=ss.transform(np_IN_X)\n"
      ],
      "execution_count": 0,
      "outputs": []
    },
    {
      "cell_type": "markdown",
      "metadata": {
        "id": "CVaCmDrsTYLU",
        "colab_type": "text"
      },
      "source": [
        "**TRAINING PHASE** "
      ]
    },
    {
      "cell_type": "code",
      "metadata": {
        "id": "aaWTSTJvTc-1",
        "colab_type": "code",
        "colab": {}
      },
      "source": [
        "\n",
        "#train the linear regressor\n",
        "linear_reg = LinearRegression().fit(X_train_ss, y_train)\n"
      ],
      "execution_count": 0,
      "outputs": []
    },
    {
      "cell_type": "markdown",
      "metadata": {
        "id": "19q2NnsUTqeS",
        "colab_type": "text"
      },
      "source": [
        "**TEST PHASE**"
      ]
    },
    {
      "cell_type": "code",
      "metadata": {
        "id": "BIPj-4mXTvAy",
        "colab_type": "code",
        "colab": {}
      },
      "source": [
        "#y_pred is a linear prediction of X_test\n",
        "y_pred_test=linear_reg.predict(X_test_ss)\n",
        "y_pred_train=linear_reg.predict(X_train_ss)\n",
        "y_pred_all=linear_reg.predict(X_all)"
      ],
      "execution_count": 0,
      "outputs": []
    },
    {
      "cell_type": "markdown",
      "metadata": {
        "id": "ruF_8xSgT8Cq",
        "colab_type": "text"
      },
      "source": [
        "Compute evaluation metrics and plot results"
      ]
    },
    {
      "cell_type": "code",
      "metadata": {
        "id": "igwyBCLbtyOU",
        "colab_type": "code",
        "colab": {
          "base_uri": "https://localhost:8080/",
          "height": 155
        },
        "outputId": "6d3dfe0c-97b7-4a2b-c180-825f65d370c5"
      },
      "source": [
        "R2=linear_reg.score(X_test_ss,y_test)\n",
        "MSE = mean_squared_error( y_test,y_pred_test)\n",
        "R2_train=linear_reg.score(X_train_ss,y_train)\n",
        "MSE_train = mean_squared_error(y_train,y_pred_train)\n",
        "print ('TEST\\nR^2=',R2,'\\nMSE= %f \\n' % MSE)\n",
        "print ('TRAIN\\nR^2=',R2_train,'\\nMSE= %f \\n' % MSE_train)"
      ],
      "execution_count": 9,
      "outputs": [
        {
          "output_type": "stream",
          "text": [
            "TEST\n",
            "R^2= 0.3290963581538665 \n",
            "MSE= 981563997.984752 \n",
            "\n",
            "TRAIN\n",
            "R^2= 0.5538011984931052 \n",
            "MSE= 740517808.751265 \n",
            "\n"
          ],
          "name": "stdout"
        }
      ]
    },
    {
      "cell_type": "code",
      "metadata": {
        "id": "y9X0Uj2-dY6W",
        "colab_type": "code",
        "outputId": "3fd66ea7-c23b-491d-fa5c-e4ba3960b31d",
        "colab": {
          "base_uri": "https://localhost:8080/",
          "height": 421
        }
      },
      "source": [
        "#evaluate the model by using R=1-RSE and MSE\n",
        "R2_test=linear_reg.score(X_test_ss,y_test)\n",
        "MSE_test = mean_squared_error( y_test,y_pred_test)\n",
        "R2_train=linear_reg.score(X_train_ss,y_train)\n",
        "MSE_train = mean_squared_error(y_train,y_pred_train)\n",
        "print ('TEST\\nR^2=',R2_test,'\\nMSE= %f \\n' % MSE_test)\n",
        "print ('TRAIN\\nR^2=',R2_train,'\\nMSE= %f \\n' % MSE_train)\n",
        "\n",
        "print('Dimensione features vectors',X_test_ss.shape,'\\nDimensione output',y_test.shape)\n",
        "\n",
        "#show the solution\n",
        "#fig, axs = plt.subplots(1,1)\n",
        "#axs = Axes3D(fig) \n",
        "\n",
        "fig = plt.figure() \n",
        "axs = fig.add_subplot(111, projection='3d') \n",
        "\n",
        "axs.set_xlabel('sup [mq]')\n",
        "axs.set_ylabel('rooms [num]')\n",
        "axs.set_zlabel('price [euro]')\n",
        "axs.scatter(X_test_ss[:,0],X_test_ss[:,1],y_test)\n",
        "axs.scatter(X_train_ss[:,0],X_train_ss[:,1],y_train,color='red')\n",
        "axs.scatter(X_all[:,0],X_all[:,1],y_pred_all,color='green')\n",
        "\n",
        "#axs.plot(X_all,y_pred_all,c='green',linewidth=3)\n",
        "fig.show()"
      ],
      "execution_count": 23,
      "outputs": [
        {
          "output_type": "stream",
          "text": [
            "TEST\n",
            "R^2= 0.3290963581538665 \n",
            "MSE= 981563997.984752 \n",
            "\n",
            "TRAIN\n",
            "R^2= 0.5538011984931052 \n",
            "MSE= 740517808.751265 \n",
            "\n",
            "Dimensione features vectors (26, 2) \n",
            "Dimensione output (26,)\n"
          ],
          "name": "stdout"
        },
        {
          "output_type": "display_data",
          "data": {
            "image/png": "[encoded data removed]",
            "text/plain": [
              "<Figure size 432x288 with 1 Axes>"
            ]
          },
          "metadata": {
            "tags": []
          }
        }
      ]
    }
  ]
}