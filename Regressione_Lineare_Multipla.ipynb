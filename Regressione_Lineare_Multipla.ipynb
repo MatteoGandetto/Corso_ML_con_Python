{
  "nbformat": 4,
  "nbformat_minor": 0,
  "metadata": {
    "colab": {
      "name": "Regressione Lineare Multipla.ipynb",
      "provenance": [],
      "collapsed_sections": [],
      "include_colab_link": true
    },
    "kernelspec": {
      "name": "python3",
      "display_name": "Python 3"
    }
  },
  "cells": [
    {
      "cell_type": "markdown",
      "metadata": {
        "id": "view-in-github",
        "colab_type": "text"
      },
      "source": [
        "<a href=\"https://colab.research.google.com/github/MatteoGandetto/Corso_ML_con_Python/blob/master/Regressione_Lineare_Multipla.ipynb\" target=\"_parent\"><img src=\"https://colab.research.google.com/assets/colab-badge.svg\" alt=\"Open In Colab\"/></a>"
      ]
    },
    {
      "cell_type": "markdown",
      "metadata": {
        "id": "QQuPWruMPeGu",
        "colab_type": "text"
      },
      "source": [
        "\n",
        "**Import Libraries**"
      ]
    },
    {
      "cell_type": "code",
      "metadata": {
        "id": "fCPH_BJmdYE3",
        "colab_type": "code",
        "colab": {}
      },
      "source": [
        "# package for scientific computing\n",
        "import numpy as np\n",
        "\n",
        "#collection of command style functions that make matplotlib work like MATLAB\n",
        "import matplotlib.pyplot as plt \n",
        "\n",
        "#data analysis and manipulation tool\n",
        "import pandas as pd "
      ],
      "execution_count": 0,
      "outputs": []
    },
    {
      "cell_type": "markdown",
      "metadata": {
        "id": "8bCKPI2M9qEy",
        "colab_type": "text"
      },
      "source": [
        "\n",
        "\n",
        "---\n",
        "---\n",
        "**Load data into a dataFrame and prepare them**"
      ]
    },
    {
      "cell_type": "code",
      "metadata": {
        "id": "4uQjeFNJ2--r",
        "colab_type": "code",
        "outputId": "922b5507-df85-4579-a7c7-15d9010efd18",
        "colab": {
          "base_uri": "https://localhost:8080/",
          "height": 233
        }
      },
      "source": [
        "\n",
        "path='https://raw.githubusercontent.com/MatteoGandetto/Corso_ML_con_Python/master/Regressione_Lineare_Multipla_IN.csv'\n",
        "INPUT_df=pd.read_csv(path)\n",
        "\n",
        "#remove all NaN\n",
        "# 0 -> rows\n",
        "# 1 -> columns\n",
        "INPUT_df=INPUT_df.dropna(1,'all')\n",
        "INPUT_df=INPUT_df.dropna(0,'all')\n",
        "\n",
        "#convert to NumPy array\n",
        "np_IN=np.array(INPUT_df)\n",
        "np_IN_X=np_IN[:,0:2]\n",
        "np_IN_y=np_IN[:,2]\n",
        "print('Dimensione features vectors',np_IN_X.shape,'\\nDimensione output',np_IN_y.shape)\n",
        "INPUT_df.head()\n"
      ],
      "execution_count": 25,
      "outputs": [
        {
          "output_type": "stream",
          "text": [
            "Dimensione features vectors (104, 2) \n",
            "Dimensione output (104,)\n"
          ],
          "name": "stdout"
        },
        {
          "output_type": "execute_result",
          "data": {
            "text/html": [
              "<div>\n",
              "<style scoped>\n",
              "    .dataframe tbody tr th:only-of-type {\n",
              "        vertical-align: middle;\n",
              "    }\n",
              "\n",
              "    .dataframe tbody tr th {\n",
              "        vertical-align: top;\n",
              "    }\n",
              "\n",
              "    .dataframe thead th {\n",
              "        text-align: right;\n",
              "    }\n",
              "</style>\n",
              "<table border=\"1\" class=\"dataframe\">\n",
              "  <thead>\n",
              "    <tr style=\"text-align: right;\">\n",
              "      <th></th>\n",
              "      <th>Superficie [mq]</th>\n",
              "      <th>Vani</th>\n",
              "      <th>Prezzo [euro]</th>\n",
              "    </tr>\n",
              "  </thead>\n",
              "  <tbody>\n",
              "    <tr>\n",
              "      <th>0</th>\n",
              "      <td>60</td>\n",
              "      <td>3</td>\n",
              "      <td>120000</td>\n",
              "    </tr>\n",
              "    <tr>\n",
              "      <th>1</th>\n",
              "      <td>70</td>\n",
              "      <td>4</td>\n",
              "      <td>135000</td>\n",
              "    </tr>\n",
              "    <tr>\n",
              "      <th>2</th>\n",
              "      <td>140</td>\n",
              "      <td>9</td>\n",
              "      <td>165000</td>\n",
              "    </tr>\n",
              "    <tr>\n",
              "      <th>3</th>\n",
              "      <td>150</td>\n",
              "      <td>9</td>\n",
              "      <td>150000</td>\n",
              "    </tr>\n",
              "    <tr>\n",
              "      <th>4</th>\n",
              "      <td>79</td>\n",
              "      <td>4</td>\n",
              "      <td>110000</td>\n",
              "    </tr>\n",
              "  </tbody>\n",
              "</table>\n",
              "</div>"
            ],
            "text/plain": [
              "   Superficie [mq]  Vani  Prezzo [euro]\n",
              "0               60     3         120000\n",
              "1               70     4         135000\n",
              "2              140     9         165000\n",
              "3              150     9         150000\n",
              "4               79     4         110000"
            ]
          },
          "metadata": {
            "tags": []
          },
          "execution_count": 25
        }
      ]
    },
    {
      "cell_type": "markdown",
      "metadata": {
        "id": "fT-YCjPndSZG",
        "colab_type": "text"
      },
      "source": [
        "\n",
        "\n",
        "---\n",
        "\n",
        "---\n",
        "\n",
        "Machine Learning\n",
        "**ALGORITMO DI REGRESSIONE LINEARE**\n",
        "\n"
      ]
    },
    {
      "cell_type": "markdown",
      "metadata": {
        "id": "y0Dg_JFDTFds",
        "colab_type": "text"
      },
      "source": [
        "Import Libraries"
      ]
    },
    {
      "cell_type": "code",
      "metadata": {
        "id": "q7AmzJ0PSywq",
        "colab_type": "code",
        "colab": {}
      },
      "source": [
        "from sklearn.linear_model import LinearRegression\n",
        "from sklearn.model_selection import train_test_split\n",
        "from sklearn.metrics import mean_squared_error"
      ],
      "execution_count": 0,
      "outputs": []
    },
    {
      "cell_type": "markdown",
      "metadata": {
        "id": "ksgI5tj2S6O8",
        "colab_type": "text"
      },
      "source": [
        "Dataset splitting \n",
        " "
      ]
    },
    {
      "cell_type": "code",
      "metadata": {
        "id": "XYvqt4pQS1EJ",
        "colab_type": "code",
        "colab": {}
      },
      "source": [
        "# split dataset in training part and test part\n",
        "# if train_size and test_size are not defined,the train_size=0.75 and test_size=0.25\n",
        "X_train, X_test, y_train, y_test = train_test_split(np_IN_X,np_IN_y,test_size=0.25)\n"
      ],
      "execution_count": 0,
      "outputs": []
    },
    {
      "cell_type": "code",
      "metadata": {
        "id": "_Tt9R7kJsxwg",
        "colab_type": "code",
        "colab": {}
      },
      "source": [
        "#con più features conviene che queste siano comprese \n",
        "#in un range di valori comune, per far questo abbiamo due possibilità:\n",
        "#Normalizzazione: portiamo tutti i dati in un range compreso tra 0 e 1\n",
        "#Standardizzazione: convertiamo i dati in una distribuzione normale \n",
        "#con media 0 e deviazione standard 1.\n",
        "\n",
        "#stardadize\n",
        "from sklearn.preprocessing import StandardScaler\n",
        "ss = StandardScaler()\n",
        "X_train_ss = ss.fit_transform(X_train)\n",
        "X_test_ss = ss.transform(X_test)\n",
        "X_all=ss.transform(np_IN_X)\n"
      ],
      "execution_count": 0,
      "outputs": []
    },
    {
      "cell_type": "markdown",
      "metadata": {
        "id": "CVaCmDrsTYLU",
        "colab_type": "text"
      },
      "source": [
        "**TRAINING PHASE** "
      ]
    },
    {
      "cell_type": "code",
      "metadata": {
        "id": "aaWTSTJvTc-1",
        "colab_type": "code",
        "colab": {}
      },
      "source": [
        "linear_reg = LinearRegression()\n",
        "\n",
        "#from sklearn.model_selection import cross_val_score\n",
        "#score=cross_val_score(linear_reg,X_train_ss, y_train,cv=2)\n",
        "#print (score.mean())\n",
        "\n",
        "#train the linear regressor\n",
        "linear_reg = LinearRegression().fit(X_train_ss, y_train)\n"
      ],
      "execution_count": 0,
      "outputs": []
    },
    {
      "cell_type": "markdown",
      "metadata": {
        "id": "19q2NnsUTqeS",
        "colab_type": "text"
      },
      "source": [
        "**TEST PHASE**"
      ]
    },
    {
      "cell_type": "code",
      "metadata": {
        "id": "BIPj-4mXTvAy",
        "colab_type": "code",
        "colab": {}
      },
      "source": [
        "#y_pred_dataset is a linear prediction of X_dataset\n",
        "y_pred_test=linear_reg.predict(X_test_ss)\n",
        "y_pred_train=linear_reg.predict(X_train_ss)\n",
        "y_pred_all=linear_reg.predict(X_all)"
      ],
      "execution_count": 0,
      "outputs": []
    },
    {
      "cell_type": "markdown",
      "metadata": {
        "id": "ruF_8xSgT8Cq",
        "colab_type": "text"
      },
      "source": [
        "Compute evaluation metrics and plot results"
      ]
    },
    {
      "cell_type": "code",
      "metadata": {
        "id": "igwyBCLbtyOU",
        "colab_type": "code",
        "colab": {
          "base_uri": "https://localhost:8080/",
          "height": 155
        },
        "outputId": "5a911868-f564-4889-b6bf-231bdf7b77bd"
      },
      "source": [
        "R2_test=linear_reg.score(X_test_ss,y_test)\n",
        "MSE_test = mean_squared_error( y_test,y_pred_test)\n",
        "R2_train=linear_reg.score(X_train_ss,y_train)\n",
        "MSE_train = mean_squared_error(y_train,y_pred_train)\n",
        "print ('TEST\\nR^2=',R2_test,'\\nMSE= %f \\n' % MSE_test)\n",
        "print ('TRAIN\\nR^2=',R2_train,'\\nMSE= %f \\n' % MSE_train)"
      ],
      "execution_count": 71,
      "outputs": [
        {
          "output_type": "stream",
          "text": [
            "TEST\n",
            "R^2= 0.3585742413177424 \n",
            "MSE= 1034407601.819003 \n",
            "\n",
            "TRAIN\n",
            "R^2= 0.5505264911448129 \n",
            "MSE= 723873178.712357 \n",
            "\n"
          ],
          "name": "stdout"
        }
      ]
    },
    {
      "cell_type": "markdown",
      "metadata": {
        "id": "o6GMIOAOvj0K",
        "colab_type": "text"
      },
      "source": [
        "Plot Solution"
      ]
    },
    {
      "cell_type": "code",
      "metadata": {
        "id": "FIiO8XYvx2ZV",
        "colab_type": "code",
        "colab": {}
      },
      "source": [
        "#inverse_trasform->Scale back the data to the original representation\n",
        "X_train_new=ss.inverse_transform(X_train_ss)\n",
        "X_test_new=ss.inverse_transform(X_test_ss)\n",
        "np_IN_X_new=ss.inverse_transform(X_all)"
      ],
      "execution_count": 0,
      "outputs": []
    },
    {
      "cell_type": "code",
      "metadata": {
        "id": "y9X0Uj2-dY6W",
        "colab_type": "code",
        "outputId": "d17b3f9b-c6c7-4d69-c928-49be8122fd90",
        "colab": {
          "base_uri": "https://localhost:8080/",
          "height": 283
        }
      },
      "source": [
        "\n",
        "print('Dimensione features vectors',X_test_ss.shape,'\\nDimensione output',y_test.shape)\n",
        "\n",
        "fig = plt.figure() \n",
        "axs = fig.add_subplot(111, projection='3d') \n",
        "axs.locator_params(axis='z', nbins=4)\n",
        "axs.set_xlabel('sup [mq]')\n",
        "axs.set_ylabel('rooms [num]')\n",
        "axs.set_zlabel('price [euro]')\n",
        "axs.scatter(X_test_new[:,0],X_test_new[:,1],y_test)\n",
        "axs.scatter(X_train_new[:,0],X_train_new[:,1],y_train,color='red')\n",
        "axs.scatter(np_IN_X_new[:,0],np_IN_X_new[:,1],y_pred_all,color='green')\n",
        "\n",
        "fig.show()"
      ],
      "execution_count": 73,
      "outputs": [
        {
          "output_type": "stream",
          "text": [
            "Dimensione features vectors (26, 2) \n",
            "Dimensione output (26,)\n"
          ],
          "name": "stdout"
        },
        {
          "output_type": "display_data",
          "data": {
            "image/png": "[encoded data removed]",
            "text/plain": [
              "<Figure size 432x288 with 1 Axes>"
            ]
          },
          "metadata": {
            "tags": []
          }
        }
      ]
    }
  ]
}